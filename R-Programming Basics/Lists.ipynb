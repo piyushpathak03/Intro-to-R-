{
 "cells": [
  {
   "cell_type": "markdown",
   "metadata": {},
   "source": [
    "## Lists\n",
    "\n",
    "Unlike Atomic vectors, the modes/datatypes of members in list has no limitation of being the same.\n",
    "\n",
    "A list can contain members with different datatypes, as well as can contain vectors and lists also as its members.\n",
    "\n",
    "List can be created by using List() method or coerce different values with \"as.list()\" method."
   ]
  },
  {
   "cell_type": "code",
   "execution_count": null,
   "metadata": {},
   "outputs": [],
   "source": [
    "list_1 <- list(1,1.2,3.4,\"list\",9 + 10i)"
   ]
  },
  {
   "cell_type": "code",
   "execution_count": null,
   "metadata": {},
   "outputs": [],
   "source": [
    "list_1"
   ]
  },
  {
   "cell_type": "code",
   "execution_count": null,
   "metadata": {},
   "outputs": [],
   "source": [
    "#check type \n",
    "typeof(list_1)"
   ]
  },
  {
   "cell_type": "code",
   "execution_count": null,
   "metadata": {},
   "outputs": [],
   "source": [
    "list_2 <- as.list(c(1,2.3,\"vec\"))"
   ]
  },
  {
   "cell_type": "code",
   "execution_count": null,
   "metadata": {},
   "outputs": [],
   "source": [
    "list_2"
   ]
  },
  {
   "cell_type": "code",
   "execution_count": null,
   "metadata": {},
   "outputs": [],
   "source": [
    "typeof(list_2)"
   ]
  },
  {
   "cell_type": "markdown",
   "metadata": {},
   "source": [
    "#### list of vectors"
   ]
  },
  {
   "cell_type": "code",
   "execution_count": null,
   "metadata": {},
   "outputs": [],
   "source": [
    "vec_1 = c(1L,2L,3L)\n",
    "vec_2 = c(14.5,25.3)\n",
    "vec_3 = c(\"A\",\"b\",\"c\")"
   ]
  },
  {
   "cell_type": "code",
   "execution_count": null,
   "metadata": {},
   "outputs": [],
   "source": [
    "list_vec = list(vec_1,vec_2,vec_3)"
   ]
  },
  {
   "cell_type": "code",
   "execution_count": null,
   "metadata": {},
   "outputs": [],
   "source": [
    "list_vec"
   ]
  },
  {
   "cell_type": "code",
   "execution_count": null,
   "metadata": {},
   "outputs": [],
   "source": [
    "typeof(list_vec)"
   ]
  },
  {
   "cell_type": "markdown",
   "metadata": {},
   "source": [
    "#### list of vectors and list"
   ]
  },
  {
   "cell_type": "code",
   "execution_count": null,
   "metadata": {},
   "outputs": [],
   "source": [
    "list_list = list(list_vec,list_1)"
   ]
  },
  {
   "cell_type": "code",
   "execution_count": null,
   "metadata": {},
   "outputs": [],
   "source": [
    "list_list"
   ]
  },
  {
   "cell_type": "markdown",
   "metadata": {},
   "source": [
    "#### Structure of a list can be checked by str() function"
   ]
  },
  {
   "cell_type": "code",
   "execution_count": null,
   "metadata": {},
   "outputs": [],
   "source": [
    "str(list_list)"
   ]
  },
  {
   "cell_type": "markdown",
   "metadata": {},
   "source": [
    "### Subsetting lists"
   ]
  },
  {
   "cell_type": "code",
   "execution_count": null,
   "metadata": {},
   "outputs": [],
   "source": [
    "list_2 = list(1:10, \"A\",\"B\",\"January\")"
   ]
  },
  {
   "cell_type": "code",
   "execution_count": null,
   "metadata": {},
   "outputs": [],
   "source": [
    "list_2"
   ]
  },
  {
   "cell_type": "code",
   "execution_count": null,
   "metadata": {},
   "outputs": [],
   "source": [
    "length(list_2)"
   ]
  },
  {
   "cell_type": "code",
   "execution_count": null,
   "metadata": {},
   "outputs": [],
   "source": [
    "list_2[1]"
   ]
  },
  {
   "cell_type": "code",
   "execution_count": null,
   "metadata": {},
   "outputs": [],
   "source": [
    "list_2[2]"
   ]
  },
  {
   "cell_type": "code",
   "execution_count": null,
   "metadata": {},
   "outputs": [],
   "source": [
    "list_2[1:3]  #getting first 3 values of the list"
   ]
  },
  {
   "cell_type": "markdown",
   "metadata": {},
   "source": [
    "#### subsetting values of vector inside the list"
   ]
  },
  {
   "cell_type": "code",
   "execution_count": null,
   "metadata": {},
   "outputs": [],
   "source": [
    "list_2[[1]]"
   ]
  },
  {
   "cell_type": "code",
   "execution_count": null,
   "metadata": {},
   "outputs": [],
   "source": [
    "list_2[[1]][4]"
   ]
  },
  {
   "cell_type": "code",
   "execution_count": null,
   "metadata": {},
   "outputs": [],
   "source": [
    "list_2[[1]][3:7] #getting values startinf from 3 and ending at 7 from the vector inside list"
   ]
  },
  {
   "cell_type": "code",
   "execution_count": null,
   "metadata": {},
   "outputs": [],
   "source": [
    "list_2[[1]]"
   ]
  },
  {
   "cell_type": "markdown",
   "metadata": {},
   "source": [
    "#### Modify values in list"
   ]
  },
  {
   "cell_type": "code",
   "execution_count": null,
   "metadata": {},
   "outputs": [],
   "source": [
    "list_2[[1]][3] = \"Three\""
   ]
  },
  {
   "cell_type": "code",
   "execution_count": null,
   "metadata": {},
   "outputs": [],
   "source": [
    "list_2"
   ]
  },
  {
   "cell_type": "code",
   "execution_count": null,
   "metadata": {},
   "outputs": [],
   "source": [
    "list_2[4] = \"March\""
   ]
  },
  {
   "cell_type": "code",
   "execution_count": null,
   "metadata": {},
   "outputs": [],
   "source": [
    "list_2"
   ]
  },
  {
   "cell_type": "markdown",
   "metadata": {},
   "source": [
    "#### Drop values from list"
   ]
  },
  {
   "cell_type": "code",
   "execution_count": null,
   "metadata": {},
   "outputs": [],
   "source": [
    "list_2[-1]"
   ]
  },
  {
   "cell_type": "code",
   "execution_count": null,
   "metadata": {},
   "outputs": [],
   "source": [
    "list_2[c(-2,-3)]"
   ]
  },
  {
   "cell_type": "code",
   "execution_count": null,
   "metadata": {},
   "outputs": [],
   "source": [
    "list_2[[1]][c(-3,-7,-8)]"
   ]
  },
  {
   "cell_type": "markdown",
   "metadata": {},
   "source": [
    "#### But this doesn't change the actual list:"
   ]
  },
  {
   "cell_type": "code",
   "execution_count": null,
   "metadata": {},
   "outputs": [],
   "source": [
    "list_2"
   ]
  },
  {
   "cell_type": "markdown",
   "metadata": {},
   "source": [
    "#### to drop the values from the actual list, you have to use  assignment operators"
   ]
  },
  {
   "cell_type": "code",
   "execution_count": null,
   "metadata": {},
   "outputs": [],
   "source": [
    "list_2 <- list_2[-1]"
   ]
  },
  {
   "cell_type": "code",
   "execution_count": null,
   "metadata": {},
   "outputs": [],
   "source": [
    "list_2"
   ]
  },
  {
   "cell_type": "markdown",
   "metadata": {},
   "source": [
    "#### Selection using logical operators"
   ]
  },
  {
   "cell_type": "code",
   "execution_count": null,
   "metadata": {},
   "outputs": [],
   "source": [
    "list_2[c(TRUE,FALSE,FALSE)]"
   ]
  },
  {
   "cell_type": "code",
   "execution_count": null,
   "metadata": {},
   "outputs": [],
   "source": [
    "list_2[c(TRUE,TRUE,FALSE)]"
   ]
  },
  {
   "cell_type": "markdown",
   "metadata": {},
   "source": [
    "#### Adding values to a list"
   ]
  },
  {
   "cell_type": "code",
   "execution_count": null,
   "metadata": {},
   "outputs": [],
   "source": [
    "list_2"
   ]
  },
  {
   "cell_type": "code",
   "execution_count": null,
   "metadata": {},
   "outputs": [],
   "source": [
    "length(list_2)"
   ]
  },
  {
   "cell_type": "code",
   "execution_count": null,
   "metadata": {},
   "outputs": [],
   "source": [
    "list_2[4] = \"New member\""
   ]
  },
  {
   "cell_type": "code",
   "execution_count": null,
   "metadata": {},
   "outputs": [],
   "source": [
    "list_2"
   ]
  },
  {
   "cell_type": "code",
   "execution_count": null,
   "metadata": {},
   "outputs": [],
   "source": [
    "length(list_2)"
   ]
  },
  {
   "cell_type": "code",
   "execution_count": null,
   "metadata": {},
   "outputs": [],
   "source": [
    "list_2[7] = 7 # if give index such that previous index do not have values then those indexes are filled with NULL"
   ]
  },
  {
   "cell_type": "code",
   "execution_count": null,
   "metadata": {},
   "outputs": [],
   "source": [
    "list_2"
   ]
  },
  {
   "cell_type": "markdown",
   "metadata": {},
   "source": [
    "### Methods on List"
   ]
  },
  {
   "cell_type": "code",
   "execution_count": 87,
   "metadata": {},
   "outputs": [],
   "source": [
    "list1 = list(1,2,3,4)\n",
    "\n",
    "list2 = list(4.5,5.6,2.3,2,3)\n",
    "\n",
    "list3 = list(\"a\",\"b\",23,54)"
   ]
  },
  {
   "cell_type": "code",
   "execution_count": 89,
   "metadata": {},
   "outputs": [
    {
     "ename": "ERROR",
     "evalue": "Error in sum(list3): invalid 'type' (list) of argument\n",
     "output_type": "error",
     "traceback": [
      "Error in sum(list3): invalid 'type' (list) of argument\nTraceback:\n"
     ]
    }
   ],
   "source": [
    "sum(list3)"
   ]
  },
  {
   "cell_type": "code",
   "execution_count": 88,
   "metadata": {},
   "outputs": [
    {
     "ename": "ERROR",
     "evalue": "Error in sum(list1): invalid 'type' (list) of argument\n",
     "output_type": "error",
     "traceback": [
      "Error in sum(list1): invalid 'type' (list) of argument\nTraceback:\n"
     ]
    }
   ],
   "source": [
    "sum(list1)"
   ]
  },
  {
   "cell_type": "code",
   "execution_count": 90,
   "metadata": {},
   "outputs": [
    {
     "ename": "ERROR",
     "evalue": "Error in order(list2): unimplemented type 'list' in 'orderVector1'\n\n",
     "output_type": "error",
     "traceback": [
      "Error in order(list2): unimplemented type 'list' in 'orderVector1'\n\nTraceback:\n",
      "1. order(list2)"
     ]
    }
   ],
   "source": [
    "order(list2)"
   ]
  },
  {
   "cell_type": "code",
   "execution_count": 91,
   "metadata": {},
   "outputs": [
    {
     "ename": "ERROR",
     "evalue": "Error in sort.int(x, na.last = na.last, decreasing = decreasing, ...): 'x' must be atomic\n",
     "output_type": "error",
     "traceback": [
      "Error in sort.int(x, na.last = na.last, decreasing = decreasing, ...): 'x' must be atomic\nTraceback:\n",
      "1. sort(list1)",
      "2. sort.default(list1)",
      "3. sort.int(x, na.last = na.last, decreasing = decreasing, ...)",
      "4. stop(\"'x' must be atomic\")"
     ]
    }
   ],
   "source": [
    "sort(list1)"
   ]
  },
  {
   "cell_type": "code",
   "execution_count": 92,
   "metadata": {},
   "outputs": [],
   "source": [
    "#converting lists back to vectors\n",
    "vec1  = unlist(list2)"
   ]
  },
  {
   "cell_type": "code",
   "execution_count": 93,
   "metadata": {},
   "outputs": [
    {
     "data": {
      "text/html": [
       "<style>\n",
       ".list-inline {list-style: none; margin:0; padding: 0}\n",
       ".list-inline>li {display: inline-block}\n",
       ".list-inline>li:not(:last-child)::after {content: \"\\00b7\"; padding: 0 .5ex}\n",
       "</style>\n",
       "<ol class=list-inline><li>4.5</li><li>5.6</li><li>2.3</li><li>2</li><li>3</li></ol>\n"
      ],
      "text/latex": [
       "\\begin{enumerate*}\n",
       "\\item 4.5\n",
       "\\item 5.6\n",
       "\\item 2.3\n",
       "\\item 2\n",
       "\\item 3\n",
       "\\end{enumerate*}\n"
      ],
      "text/markdown": [
       "1. 4.5\n",
       "2. 5.6\n",
       "3. 2.3\n",
       "4. 2\n",
       "5. 3\n",
       "\n",
       "\n"
      ],
      "text/plain": [
       "[1] 4.5 5.6 2.3 2.0 3.0"
      ]
     },
     "metadata": {},
     "output_type": "display_data"
    }
   ],
   "source": [
    "vec1"
   ]
  },
  {
   "cell_type": "code",
   "execution_count": 94,
   "metadata": {},
   "outputs": [
    {
     "data": {
      "text/html": [
       "17.4"
      ],
      "text/latex": [
       "17.4"
      ],
      "text/markdown": [
       "17.4"
      ],
      "text/plain": [
       "[1] 17.4"
      ]
     },
     "metadata": {},
     "output_type": "display_data"
    }
   ],
   "source": [
    "sum(vec1)"
   ]
  },
  {
   "cell_type": "code",
   "execution_count": 95,
   "metadata": {},
   "outputs": [
    {
     "data": {
      "text/html": [
       "4"
      ],
      "text/latex": [
       "4"
      ],
      "text/markdown": [
       "4"
      ],
      "text/plain": [
       "[1] 4"
      ]
     },
     "metadata": {},
     "output_type": "display_data"
    }
   ],
   "source": [
    "length(list1)"
   ]
  },
  {
   "cell_type": "markdown",
   "metadata": {},
   "source": [
    "### Named Lists\n",
    "\n",
    "\n",
    "Similar to vectors we can also have named lists."
   ]
  },
  {
   "cell_type": "code",
   "execution_count": 98,
   "metadata": {},
   "outputs": [],
   "source": [
    "list_1 = list( \"Ramesh\" ,  32, \"Bangalore\")"
   ]
  },
  {
   "cell_type": "code",
   "execution_count": 99,
   "metadata": {},
   "outputs": [
    {
     "data": {
      "text/html": [
       "<ol>\n",
       "\t<li>'Ramesh'</li>\n",
       "\t<li>32</li>\n",
       "\t<li>'Bangalore'</li>\n",
       "</ol>\n"
      ],
      "text/latex": [
       "\\begin{enumerate}\n",
       "\\item 'Ramesh'\n",
       "\\item 32\n",
       "\\item 'Bangalore'\n",
       "\\end{enumerate}\n"
      ],
      "text/markdown": [
       "1. 'Ramesh'\n",
       "2. 32\n",
       "3. 'Bangalore'\n",
       "\n",
       "\n"
      ],
      "text/plain": [
       "[[1]]\n",
       "[1] \"Ramesh\"\n",
       "\n",
       "[[2]]\n",
       "[1] 32\n",
       "\n",
       "[[3]]\n",
       "[1] \"Bangalore\"\n"
      ]
     },
     "metadata": {},
     "output_type": "display_data"
    }
   ],
   "source": [
    "list_1"
   ]
  },
  {
   "cell_type": "code",
   "execution_count": 96,
   "metadata": {},
   "outputs": [],
   "source": [
    "list_named = list(\"Name\" = \"Ramesh\" , \"age\" = 32, \"city\"= \"Bangalore\")"
   ]
  },
  {
   "cell_type": "code",
   "execution_count": 97,
   "metadata": {},
   "outputs": [
    {
     "data": {
      "text/html": [
       "<dl>\n",
       "\t<dt>$Name</dt>\n",
       "\t\t<dd>'Ramesh'</dd>\n",
       "\t<dt>$age</dt>\n",
       "\t\t<dd>32</dd>\n",
       "\t<dt>$city</dt>\n",
       "\t\t<dd>'Bangalore'</dd>\n",
       "</dl>\n"
      ],
      "text/latex": [
       "\\begin{description}\n",
       "\\item[\\$Name] 'Ramesh'\n",
       "\\item[\\$age] 32\n",
       "\\item[\\$city] 'Bangalore'\n",
       "\\end{description}\n"
      ],
      "text/markdown": [
       "$Name\n",
       ":   'Ramesh'\n",
       "$age\n",
       ":   32\n",
       "$city\n",
       ":   'Bangalore'\n",
       "\n",
       "\n"
      ],
      "text/plain": [
       "$Name\n",
       "[1] \"Ramesh\"\n",
       "\n",
       "$age\n",
       "[1] 32\n",
       "\n",
       "$city\n",
       "[1] \"Bangalore\"\n"
      ]
     },
     "metadata": {},
     "output_type": "display_data"
    }
   ],
   "source": [
    "list_named"
   ]
  },
  {
   "cell_type": "code",
   "execution_count": 100,
   "metadata": {},
   "outputs": [
    {
     "data": {
      "text/html": [
       "<strong>$city</strong> = 'Bangalore'"
      ],
      "text/latex": [
       "\\textbf{\\$city} = 'Bangalore'"
      ],
      "text/markdown": [
       "**$city** = 'Bangalore'"
      ],
      "text/plain": [
       "$city\n",
       "[1] \"Bangalore\"\n"
      ]
     },
     "metadata": {},
     "output_type": "display_data"
    }
   ],
   "source": [
    "list_named[\"city\"]"
   ]
  },
  {
   "cell_type": "markdown",
   "metadata": {},
   "source": [
    "### add new member in named list"
   ]
  },
  {
   "cell_type": "code",
   "execution_count": 101,
   "metadata": {},
   "outputs": [],
   "source": [
    "list_named [\"Working\"] = TRUE"
   ]
  },
  {
   "cell_type": "code",
   "execution_count": 102,
   "metadata": {},
   "outputs": [
    {
     "data": {
      "text/html": [
       "<dl>\n",
       "\t<dt>$Name</dt>\n",
       "\t\t<dd>'Ramesh'</dd>\n",
       "\t<dt>$age</dt>\n",
       "\t\t<dd>32</dd>\n",
       "\t<dt>$city</dt>\n",
       "\t\t<dd>'Bangalore'</dd>\n",
       "\t<dt>$Working</dt>\n",
       "\t\t<dd>TRUE</dd>\n",
       "</dl>\n"
      ],
      "text/latex": [
       "\\begin{description}\n",
       "\\item[\\$Name] 'Ramesh'\n",
       "\\item[\\$age] 32\n",
       "\\item[\\$city] 'Bangalore'\n",
       "\\item[\\$Working] TRUE\n",
       "\\end{description}\n"
      ],
      "text/markdown": [
       "$Name\n",
       ":   'Ramesh'\n",
       "$age\n",
       ":   32\n",
       "$city\n",
       ":   'Bangalore'\n",
       "$Working\n",
       ":   TRUE\n",
       "\n",
       "\n"
      ],
      "text/plain": [
       "$Name\n",
       "[1] \"Ramesh\"\n",
       "\n",
       "$age\n",
       "[1] 32\n",
       "\n",
       "$city\n",
       "[1] \"Bangalore\"\n",
       "\n",
       "$Working\n",
       "[1] TRUE\n"
      ]
     },
     "metadata": {},
     "output_type": "display_data"
    }
   ],
   "source": [
    "list_named"
   ]
  },
  {
   "cell_type": "code",
   "execution_count": 103,
   "metadata": {},
   "outputs": [],
   "source": [
    "# can also add non name memmber to list, by default 5 is the name of the new member\n",
    "list_named[5] = 55"
   ]
  },
  {
   "cell_type": "code",
   "execution_count": 104,
   "metadata": {},
   "outputs": [
    {
     "data": {
      "text/html": [
       "<dl>\n",
       "\t<dt>$Name</dt>\n",
       "\t\t<dd>'Ramesh'</dd>\n",
       "\t<dt>$age</dt>\n",
       "\t\t<dd>32</dd>\n",
       "\t<dt>$city</dt>\n",
       "\t\t<dd>'Bangalore'</dd>\n",
       "\t<dt>$Working</dt>\n",
       "\t\t<dd>TRUE</dd>\n",
       "\t<dt>[[5]]</dt>\n",
       "\t\t<dd>55</dd>\n",
       "</dl>\n"
      ],
      "text/latex": [
       "\\begin{description}\n",
       "\\item[\\$Name] 'Ramesh'\n",
       "\\item[\\$age] 32\n",
       "\\item[\\$city] 'Bangalore'\n",
       "\\item[\\$Working] TRUE\n",
       "\\item[{[[5]]}] 55\n",
       "\\end{description}\n"
      ],
      "text/markdown": [
       "$Name\n",
       ":   'Ramesh'\n",
       "$age\n",
       ":   32\n",
       "$city\n",
       ":   'Bangalore'\n",
       "$Working\n",
       ":   TRUE\n",
       "[[5]]\n",
       ":   55\n",
       "\n",
       "\n"
      ],
      "text/plain": [
       "$Name\n",
       "[1] \"Ramesh\"\n",
       "\n",
       "$age\n",
       "[1] 32\n",
       "\n",
       "$city\n",
       "[1] \"Bangalore\"\n",
       "\n",
       "$Working\n",
       "[1] TRUE\n",
       "\n",
       "[[5]]\n",
       "[1] 55\n"
      ]
     },
     "metadata": {},
     "output_type": "display_data"
    }
   ],
   "source": [
    "list_named"
   ]
  },
  {
   "cell_type": "markdown",
   "metadata": {},
   "source": [
    "### Deleting values from named list"
   ]
  },
  {
   "cell_type": "code",
   "execution_count": 105,
   "metadata": {},
   "outputs": [],
   "source": [
    "list_named[5] <- NULL"
   ]
  },
  {
   "cell_type": "code",
   "execution_count": 106,
   "metadata": {},
   "outputs": [
    {
     "data": {
      "text/html": [
       "<dl>\n",
       "\t<dt>$Name</dt>\n",
       "\t\t<dd>'Ramesh'</dd>\n",
       "\t<dt>$age</dt>\n",
       "\t\t<dd>32</dd>\n",
       "\t<dt>$city</dt>\n",
       "\t\t<dd>'Bangalore'</dd>\n",
       "\t<dt>$Working</dt>\n",
       "\t\t<dd>TRUE</dd>\n",
       "</dl>\n"
      ],
      "text/latex": [
       "\\begin{description}\n",
       "\\item[\\$Name] 'Ramesh'\n",
       "\\item[\\$age] 32\n",
       "\\item[\\$city] 'Bangalore'\n",
       "\\item[\\$Working] TRUE\n",
       "\\end{description}\n"
      ],
      "text/markdown": [
       "$Name\n",
       ":   'Ramesh'\n",
       "$age\n",
       ":   32\n",
       "$city\n",
       ":   'Bangalore'\n",
       "$Working\n",
       ":   TRUE\n",
       "\n",
       "\n"
      ],
      "text/plain": [
       "$Name\n",
       "[1] \"Ramesh\"\n",
       "\n",
       "$age\n",
       "[1] 32\n",
       "\n",
       "$city\n",
       "[1] \"Bangalore\"\n",
       "\n",
       "$Working\n",
       "[1] TRUE\n"
      ]
     },
     "metadata": {},
     "output_type": "display_data"
    }
   ],
   "source": [
    "list_named"
   ]
  },
  {
   "cell_type": "markdown",
   "metadata": {},
   "source": [
    "### Attaching and Detaching List to R path\n"
   ]
  },
  {
   "cell_type": "code",
   "execution_count": 108,
   "metadata": {},
   "outputs": [
    {
     "data": {
      "text/html": [
       "<dl>\n",
       "\t<dt>$Name</dt>\n",
       "\t\t<dd>'Ramesh'</dd>\n",
       "\t<dt>$age</dt>\n",
       "\t\t<dd>32</dd>\n",
       "\t<dt>$city</dt>\n",
       "\t\t<dd>'Bangalore'</dd>\n",
       "\t<dt>$Working</dt>\n",
       "\t\t<dd>TRUE</dd>\n",
       "</dl>\n"
      ],
      "text/latex": [
       "\\begin{description}\n",
       "\\item[\\$Name] 'Ramesh'\n",
       "\\item[\\$age] 32\n",
       "\\item[\\$city] 'Bangalore'\n",
       "\\item[\\$Working] TRUE\n",
       "\\end{description}\n"
      ],
      "text/markdown": [
       "$Name\n",
       ":   'Ramesh'\n",
       "$age\n",
       ":   32\n",
       "$city\n",
       ":   'Bangalore'\n",
       "$Working\n",
       ":   TRUE\n",
       "\n",
       "\n"
      ],
      "text/plain": [
       "$Name\n",
       "[1] \"Ramesh\"\n",
       "\n",
       "$age\n",
       "[1] 32\n",
       "\n",
       "$city\n",
       "[1] \"Bangalore\"\n",
       "\n",
       "$Working\n",
       "[1] TRUE\n"
      ]
     },
     "metadata": {},
     "output_type": "display_data"
    }
   ],
   "source": [
    "list_named"
   ]
  },
  {
   "cell_type": "code",
   "execution_count": 107,
   "metadata": {},
   "outputs": [],
   "source": [
    "attach(list_named)"
   ]
  },
  {
   "cell_type": "code",
   "execution_count": 109,
   "metadata": {},
   "outputs": [
    {
     "data": {
      "text/html": [
       "'Ramesh'"
      ],
      "text/latex": [
       "'Ramesh'"
      ],
      "text/markdown": [
       "'Ramesh'"
      ],
      "text/plain": [
       "[1] \"Ramesh\""
      ]
     },
     "metadata": {},
     "output_type": "display_data"
    }
   ],
   "source": [
    "Name"
   ]
  },
  {
   "cell_type": "code",
   "execution_count": 110,
   "metadata": {},
   "outputs": [
    {
     "data": {
      "text/html": [
       "32"
      ],
      "text/latex": [
       "32"
      ],
      "text/markdown": [
       "32"
      ],
      "text/plain": [
       "[1] 32"
      ]
     },
     "metadata": {},
     "output_type": "display_data"
    }
   ],
   "source": [
    "age"
   ]
  },
  {
   "cell_type": "code",
   "execution_count": 111,
   "metadata": {},
   "outputs": [
    {
     "data": {
      "text/html": [
       "'Bangalore'"
      ],
      "text/latex": [
       "'Bangalore'"
      ],
      "text/markdown": [
       "'Bangalore'"
      ],
      "text/plain": [
       "[1] \"Bangalore\""
      ]
     },
     "metadata": {},
     "output_type": "display_data"
    }
   ],
   "source": [
    "city"
   ]
  },
  {
   "cell_type": "code",
   "execution_count": 112,
   "metadata": {},
   "outputs": [
    {
     "data": {
      "text/html": [
       "TRUE"
      ],
      "text/latex": [
       "TRUE"
      ],
      "text/markdown": [
       "TRUE"
      ],
      "text/plain": [
       "[1] TRUE"
      ]
     },
     "metadata": {},
     "output_type": "display_data"
    }
   ],
   "source": [
    "Working"
   ]
  },
  {
   "cell_type": "code",
   "execution_count": 113,
   "metadata": {},
   "outputs": [],
   "source": [
    "detach(list_named)"
   ]
  },
  {
   "cell_type": "code",
   "execution_count": 114,
   "metadata": {},
   "outputs": [
    {
     "ename": "ERROR",
     "evalue": "Error in eval(expr, envir, enclos): object 'Working' not found\n",
     "output_type": "error",
     "traceback": [
      "Error in eval(expr, envir, enclos): object 'Working' not found\nTraceback:\n"
     ]
    }
   ],
   "source": [
    "Working"
   ]
  },
  {
   "cell_type": "code",
   "execution_count": 115,
   "metadata": {},
   "outputs": [
    {
     "ename": "ERROR",
     "evalue": "Error in eval(expr, envir, enclos): object 'city' not found\n",
     "output_type": "error",
     "traceback": [
      "Error in eval(expr, envir, enclos): object 'city' not found\nTraceback:\n"
     ]
    }
   ],
   "source": [
    "city"
   ]
  },
  {
   "cell_type": "code",
   "execution_count": null,
   "metadata": {},
   "outputs": [],
   "source": []
  }
 ],
 "metadata": {
  "kernelspec": {
   "display_name": "R",
   "language": "R",
   "name": "ir"
  },
  "language_info": {
   "codemirror_mode": "r",
   "file_extension": ".r",
   "mimetype": "text/x-r-source",
   "name": "R",
   "pygments_lexer": "r",
   "version": "3.6.1"
  }
 },
 "nbformat": 4,
 "nbformat_minor": 4
}
