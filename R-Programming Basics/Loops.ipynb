{
 "cells": [
  {
   "cell_type": "markdown",
   "metadata": {},
   "source": [
    "## Using Loops\n",
    "\n",
    "Loops are very important concepts when it comes iterating over container objects or range of numbers e.g. lists, vectors, dataframes etc.\n",
    "\n",
    "\n",
    "### For loops\n",
    "\n",
    "\n",
    "##### Syntax\n",
    "\n",
    "for i in vector/list {\n",
    "\n",
    "    do something\n",
    "    \n",
    "   }\n",
    "   \n",
    "The loop will go through each element in the vector/lists and execute the code written in the braces.\n",
    "\n"
   ]
  },
  {
   "cell_type": "code",
   "execution_count": 18,
   "metadata": {},
   "outputs": [
    {
     "name": "stdout",
     "output_type": "stream",
     "text": [
      "[1] 9\n"
     ]
    }
   ],
   "source": [
    "i = 3\n",
    "print(i*i)"
   ]
  },
  {
   "cell_type": "code",
   "execution_count": 19,
   "metadata": {},
   "outputs": [
    {
     "name": "stdout",
     "output_type": "stream",
     "text": [
      "[1] 1\n",
      "[1] 4\n",
      "[1] 9\n",
      "[1] 16\n",
      "[1] 25\n",
      "[1] 36\n",
      "[1] 49\n",
      "[1] 64\n",
      "[1] 81\n",
      "[1] 100\n"
     ]
    }
   ],
   "source": [
    "for (i in (1:10)){\n",
    "    \n",
    "    print(i*i)\n",
    "    i = i+1\n",
    "    \n",
    "}"
   ]
  },
  {
   "cell_type": "code",
   "execution_count": 20,
   "metadata": {},
   "outputs": [
    {
     "name": "stdout",
     "output_type": "stream",
     "text": [
      "[1] 1\n",
      "[1] 4\n",
      "[1] 9\n",
      "[1] 16\n",
      "[1] 25\n",
      "[1] 36\n",
      "[1] 49\n",
      "[1] 64\n",
      "[1] 81\n",
      "[1] 100\n"
     ]
    }
   ],
   "source": [
    "for (i in (1:10)){\n",
    "    \n",
    "    print(i*i)\n",
    "    \n",
    "}"
   ]
  },
  {
   "cell_type": "code",
   "execution_count": 21,
   "metadata": {},
   "outputs": [
    {
     "name": "stdout",
     "output_type": "stream",
     "text": [
      "[1] 1\n",
      "[1] 9\n",
      "[1] 25\n",
      "[1] 49\n",
      "[1] 81\n"
     ]
    }
   ],
   "source": [
    "for (i in seq(1,10,by=2)){\n",
    "    \n",
    "    print(i*i)\n",
    "    \n",
    "}"
   ]
  },
  {
   "cell_type": "code",
   "execution_count": 22,
   "metadata": {},
   "outputs": [
    {
     "data": {
      "text/html": [
       "<style>\n",
       ".list-inline {list-style: none; margin:0; padding: 0}\n",
       ".list-inline>li {display: inline-block}\n",
       ".list-inline>li:not(:last-child)::after {content: \"\\00b7\"; padding: 0 .5ex}\n",
       "</style>\n",
       "<ol class=list-inline><li>12</li><li>13</li><li>14</li><li>15</li></ol>\n"
      ],
      "text/latex": [
       "\\begin{enumerate*}\n",
       "\\item 12\n",
       "\\item 13\n",
       "\\item 14\n",
       "\\item 15\n",
       "\\end{enumerate*}\n"
      ],
      "text/markdown": [
       "1. 12\n",
       "2. 13\n",
       "3. 14\n",
       "4. 15\n",
       "\n",
       "\n"
      ],
      "text/plain": [
       "[1] 12 13 14 15"
      ]
     },
     "metadata": {},
     "output_type": "display_data"
    }
   ],
   "source": [
    "vec = c(12,13,14,15)\n",
    "vec"
   ]
  },
  {
   "cell_type": "code",
   "execution_count": 24,
   "metadata": {},
   "outputs": [
    {
     "name": "stdout",
     "output_type": "stream",
     "text": [
      "[1] 0\n",
      "[1] 1\n",
      "[1] 0\n",
      "[1] 1\n"
     ]
    }
   ],
   "source": [
    "for (i in vec){\n",
    "    print(i%%2)\n",
    "}"
   ]
  },
  {
   "cell_type": "code",
   "execution_count": 25,
   "metadata": {},
   "outputs": [
    {
     "name": "stdout",
     "output_type": "stream",
     "text": [
      "The sum of even numbers in the list is  234[1] \"\\n\"\n",
      "The sum of odd numbers in the list is  152"
     ]
    }
   ],
   "source": [
    "# Program to find the sum of all even numbers and odd numbers stored in a list seperately\n",
    "\n",
    "# List of numbers\n",
    "numbers = list(16, 55, 33, 58, 24, 82, 45, 54,19)\n",
    "\n",
    "# variable to store the sum\n",
    "even_sum = 0\n",
    "odd_sum = 0\n",
    "\n",
    "# iterate over the list\n",
    "for (i in numbers){\n",
    "    if(i%%2==0){\n",
    "        even_sum = even_sum+i\n",
    "    } else {\n",
    "        odd_sum = odd_sum + i\n",
    "        }\n",
    "    }\n",
    "\n",
    "cat(\"The sum of even numbers in the list is \", even_sum)\n",
    "print(\"\\n\")\n",
    "cat(\"The sum of odd numbers in the list is \", odd_sum)"
   ]
  },
  {
   "cell_type": "code",
   "execution_count": 26,
   "metadata": {},
   "outputs": [
    {
     "data": {
      "text/html": [
       "<table>\n",
       "<caption>A data.frame: 3 × 3</caption>\n",
       "<thead>\n",
       "\t<tr><th scope=col>A</th><th scope=col>B</th><th scope=col>C</th></tr>\n",
       "\t<tr><th scope=col>&lt;int&gt;</th><th scope=col>&lt;int&gt;</th><th scope=col>&lt;int&gt;</th></tr>\n",
       "</thead>\n",
       "<tbody>\n",
       "\t<tr><td>12</td><td>34</td><td>45</td></tr>\n",
       "\t<tr><td>13</td><td>35</td><td>46</td></tr>\n",
       "\t<tr><td>14</td><td>36</td><td>47</td></tr>\n",
       "</tbody>\n",
       "</table>\n"
      ],
      "text/latex": [
       "A data.frame: 3 × 3\n",
       "\\begin{tabular}{lll}\n",
       " A & B & C\\\\\n",
       " <int> & <int> & <int>\\\\\n",
       "\\hline\n",
       "\t 12 & 34 & 45\\\\\n",
       "\t 13 & 35 & 46\\\\\n",
       "\t 14 & 36 & 47\\\\\n",
       "\\end{tabular}\n"
      ],
      "text/markdown": [
       "\n",
       "A data.frame: 3 × 3\n",
       "\n",
       "| A &lt;int&gt; | B &lt;int&gt; | C &lt;int&gt; |\n",
       "|---|---|---|\n",
       "| 12 | 34 | 45 |\n",
       "| 13 | 35 | 46 |\n",
       "| 14 | 36 | 47 |\n",
       "\n"
      ],
      "text/plain": [
       "  A  B  C \n",
       "1 12 34 45\n",
       "2 13 35 46\n",
       "3 14 36 47"
      ]
     },
     "metadata": {},
     "output_type": "display_data"
    }
   ],
   "source": [
    "vec1 = c(12L,13L,14L)\n",
    "vec2 = c(34L,35L,36L)\n",
    "vec3= c(45L,46L,47L)\n",
    "\n",
    "\n",
    "df <- data.frame(\"A\" = vec1,\"B\"= vec2,\"C\"= vec3)\n",
    "df"
   ]
  },
  {
   "cell_type": "code",
   "execution_count": 27,
   "metadata": {},
   "outputs": [
    {
     "data": {
      "text/html": [
       "3"
      ],
      "text/latex": [
       "3"
      ],
      "text/markdown": [
       "3"
      ],
      "text/plain": [
       "[1] 3"
      ]
     },
     "metadata": {},
     "output_type": "display_data"
    }
   ],
   "source": [
    "ncol(df)"
   ]
  },
  {
   "cell_type": "code",
   "execution_count": 28,
   "metadata": {},
   "outputs": [
    {
     "name": "stdout",
     "output_type": "stream",
     "text": [
      "   A\n",
      "1 12\n",
      "2 13\n",
      "3 14\n",
      "   B\n",
      "1 34\n",
      "2 35\n",
      "3 36\n",
      "   C\n",
      "1 45\n",
      "2 46\n",
      "3 47\n"
     ]
    }
   ],
   "source": [
    "for (i in 1:ncol(df)){\n",
    "    \n",
    "    print(df[i])\n",
    "}"
   ]
  },
  {
   "cell_type": "code",
   "execution_count": 29,
   "metadata": {},
   "outputs": [
    {
     "data": {
      "text/html": [
       "<style>\n",
       ".list-inline {list-style: none; margin:0; padding: 0}\n",
       ".list-inline>li {display: inline-block}\n",
       ".list-inline>li:not(:last-child)::after {content: \"\\00b7\"; padding: 0 .5ex}\n",
       "</style>\n",
       "<ol class=list-inline><li>'A'</li><li>'B'</li><li>'C'</li></ol>\n"
      ],
      "text/latex": [
       "\\begin{enumerate*}\n",
       "\\item 'A'\n",
       "\\item 'B'\n",
       "\\item 'C'\n",
       "\\end{enumerate*}\n"
      ],
      "text/markdown": [
       "1. 'A'\n",
       "2. 'B'\n",
       "3. 'C'\n",
       "\n",
       "\n"
      ],
      "text/plain": [
       "[1] \"A\" \"B\" \"C\""
      ]
     },
     "metadata": {},
     "output_type": "display_data"
    }
   ],
   "source": [
    "colnames(df)"
   ]
  },
  {
   "cell_type": "code",
   "execution_count": 30,
   "metadata": {},
   "outputs": [
    {
     "name": "stdout",
     "output_type": "stream",
     "text": [
      "   A\n",
      "1 12\n",
      "2 13\n",
      "3 14\n",
      "   B\n",
      "1 34\n",
      "2 35\n",
      "3 36\n",
      "   C\n",
      "1 45\n",
      "2 46\n",
      "3 47\n"
     ]
    }
   ],
   "source": [
    "for (i in colnames(df)){\n",
    "    \n",
    "    print(df[i])\n",
    "}"
   ]
  },
  {
   "cell_type": "markdown",
   "metadata": {},
   "source": [
    "### Nested For loops\n",
    "\n",
    "We can also for loops inside anothe for loop , thus creating a nested for loop."
   ]
  },
  {
   "cell_type": "code",
   "execution_count": 31,
   "metadata": {},
   "outputs": [
    {
     "name": "stdout",
     "output_type": "stream",
     "text": [
      "[1] multiplication of i and j is : 1\n",
      "[1] multiplication of i and j is : 2\n",
      "[1] multiplication of i and j is : 2\n",
      "[1] multiplication of i and j is : 4\n",
      "[1] multiplication of i and j is : 3\n",
      "[1] multiplication of i and j is : 6\n"
     ]
    }
   ],
   "source": [
    "for (i in (1:3)){\n",
    "    for (j in (1:2)){\n",
    "        print(paste(\"multiplication of i and j is :\" , i*j),quote = FALSE)\n",
    "        }\n",
    "    }"
   ]
  },
  {
   "cell_type": "code",
   "execution_count": null,
   "metadata": {},
   "outputs": [],
   "source": [
    "mat = matrix(seq(12,23, by =1),nrow=3,ncol=4, dimnames = (list(c(\"row1\",\"row2\",\"row3\"),\n",
    "                                                                c(\"col1\",\"col2\",\"col3\",\"col4\"))))"
   ]
  },
  {
   "cell_type": "code",
   "execution_count": null,
   "metadata": {},
   "outputs": [],
   "source": [
    "mat"
   ]
  },
  {
   "cell_type": "code",
   "execution_count": null,
   "metadata": {},
   "outputs": [],
   "source": [
    "for (i in (1:nrow(mat))){\n",
    "    \n",
    "    for (j in (1:ncol(mat))){\n",
    "        \n",
    "        print(paste(sprintf(\"Element at row %d and column no %d:\",i,j), mat[i,j]),quote=FALSE)\n",
    "        #print(\"/n\")\n",
    "    }\n",
    "}"
   ]
  },
  {
   "cell_type": "markdown",
   "metadata": {},
   "source": [
    "### While Loop\n",
    "\n",
    "#### Syntax\n",
    "\n",
    "    while (condition)\n",
    "    {\n",
    "        Execution Statement\n",
    "    }"
   ]
  },
  {
   "cell_type": "code",
   "execution_count": 32,
   "metadata": {},
   "outputs": [
    {
     "name": "stdout",
     "output_type": "stream",
     "text": [
      "[1] TRUE\n"
     ]
    }
   ],
   "source": [
    "a = TRUE\n",
    "while (a){\n",
    "    \n",
    "    print(a)\n",
    "    \n",
    "    a= FALSE\n",
    "}"
   ]
  },
  {
   "cell_type": "code",
   "execution_count": 33,
   "metadata": {},
   "outputs": [
    {
     "name": "stdout",
     "output_type": "stream",
     "text": [
      "[1] value of i is : 1\n",
      "[1] value of i is : 2\n",
      "[1] value of i is : 3\n",
      "[1] value of i is : 4\n",
      "[1] value of i is : 5\n",
      "[1] value of i is : 6\n",
      "[1] value of i is : 7\n",
      "[1] value of i is : 8\n",
      "[1] value of i is : 9\n"
     ]
    }
   ],
   "source": [
    "i <- 1\n",
    "\n",
    "while(i<10){\n",
    "    \n",
    "    print(paste(\"value of i is :\", i),quote = FALSE)\n",
    "    i= i + 1\n",
    "}"
   ]
  },
  {
   "cell_type": "code",
   "execution_count": 34,
   "metadata": {},
   "outputs": [],
   "source": [
    "mat = matrix(seq(12,23, by =1),nrow=3,ncol=4, dimnames = (list(c(\"row1\",\"row2\",\"row3\"),\n",
    "                                                                c(\"col1\",\"col2\",\"col3\",\"col4\"))))"
   ]
  },
  {
   "cell_type": "code",
   "execution_count": 35,
   "metadata": {},
   "outputs": [
    {
     "data": {
      "text/html": [
       "<table>\n",
       "<caption>A matrix: 3 × 4 of type dbl</caption>\n",
       "<thead>\n",
       "\t<tr><th></th><th scope=col>col1</th><th scope=col>col2</th><th scope=col>col3</th><th scope=col>col4</th></tr>\n",
       "</thead>\n",
       "<tbody>\n",
       "\t<tr><th scope=row>row1</th><td>12</td><td>15</td><td>18</td><td>21</td></tr>\n",
       "\t<tr><th scope=row>row2</th><td>13</td><td>16</td><td>19</td><td>22</td></tr>\n",
       "\t<tr><th scope=row>row3</th><td>14</td><td>17</td><td>20</td><td>23</td></tr>\n",
       "</tbody>\n",
       "</table>\n"
      ],
      "text/latex": [
       "A matrix: 3 × 4 of type dbl\n",
       "\\begin{tabular}{r|llll}\n",
       "  & col1 & col2 & col3 & col4\\\\\n",
       "\\hline\n",
       "\trow1 & 12 & 15 & 18 & 21\\\\\n",
       "\trow2 & 13 & 16 & 19 & 22\\\\\n",
       "\trow3 & 14 & 17 & 20 & 23\\\\\n",
       "\\end{tabular}\n"
      ],
      "text/markdown": [
       "\n",
       "A matrix: 3 × 4 of type dbl\n",
       "\n",
       "| <!--/--> | col1 | col2 | col3 | col4 |\n",
       "|---|---|---|---|---|\n",
       "| row1 | 12 | 15 | 18 | 21 |\n",
       "| row2 | 13 | 16 | 19 | 22 |\n",
       "| row3 | 14 | 17 | 20 | 23 |\n",
       "\n"
      ],
      "text/plain": [
       "     col1 col2 col3 col4\n",
       "row1 12   15   18   21  \n",
       "row2 13   16   19   22  \n",
       "row3 14   17   20   23  "
      ]
     },
     "metadata": {},
     "output_type": "display_data"
    }
   ],
   "source": [
    "mat"
   ]
  },
  {
   "cell_type": "code",
   "execution_count": 36,
   "metadata": {},
   "outputs": [
    {
     "name": "stdout",
     "output_type": "stream",
     "text": [
      "[1] Element at row 1 and column no 1: 12\n",
      "[1] Element at row 1 and column no 2: 15\n",
      "[1] Element at row 1 and column no 3: 18\n",
      "[1] Element at row 1 and column no 4: 21\n",
      "[1] Element at row 2 and column no 1: 13\n",
      "[1] Element at row 2 and column no 2: 16\n",
      "[1] Element at row 2 and column no 3: 19\n",
      "[1] Element at row 2 and column no 4: 22\n",
      "[1] Element at row 3 and column no 1: 14\n",
      "[1] Element at row 3 and column no 2: 17\n",
      "[1] Element at row 3 and column no 3: 20\n",
      "[1] Element at row 3 and column no 4: 23\n"
     ]
    }
   ],
   "source": [
    "i=1\n",
    "while (i<=nrow(mat)){\n",
    "    j=1\n",
    "    while(j<=ncol(mat)){\n",
    "        print(paste(sprintf(\"Element at row %d and column no %d:\",i,j), mat[i,j]),quote=FALSE)\n",
    "        j=j+1\n",
    "    }\n",
    "    i=i+1\n",
    "}"
   ]
  },
  {
   "cell_type": "markdown",
   "metadata": {},
   "source": [
    "Let's write a code in R to Print the Fibonacci Sequence till given number of terms by the user.\n",
    "\n",
    "Fibonaci seq: 0, 1, 1, 2, 3, 5, 8, 13, 21,......"
   ]
  },
  {
   "cell_type": "code",
   "execution_count": null,
   "metadata": {},
   "outputs": [],
   "source": [
    "i =3\n",
    "j=0\n",
    "k=1\n",
    "n = as.integer(readline(\"Give the nth term!!\"))\n",
    "if (n<=0){\n",
    "    print(\"Please enter a valid term!\")\n",
    "    n = as.integer(readline(\"Give the nth term!!\"))\n",
    "} else if (n==1){\n",
    "    \n",
    "    print(j)\n",
    "} else if (n==2){\n",
    "    \n",
    "    cat(j,k)\n",
    "} else {\n",
    "    print(j)\n",
    "    print(k)\n",
    "    while (i<=n){  \n",
    "    sum = j+k\n",
    "    #print(j,k)\n",
    "    print(sum)\n",
    "    j = k\n",
    "    k = sum\n",
    "    i=i+1\n",
    "}\n",
    "    \n",
    "}\n"
   ]
  },
  {
   "cell_type": "markdown",
   "metadata": {},
   "source": [
    "## Break Statement\n",
    "\n",
    "We can use Break statement to break out of the loop i.e. to take the control out of the loop."
   ]
  },
  {
   "cell_type": "code",
   "execution_count": 39,
   "metadata": {},
   "outputs": [
    {
     "name": "stdout",
     "output_type": "stream",
     "text": [
      "[1] 12\n"
     ]
    }
   ],
   "source": [
    "vec = c(12,13,14,15)\n",
    "\n",
    "for (i in vec){\n",
    "    print(i)\n",
    "    break\n",
    "}"
   ]
  },
  {
   "cell_type": "code",
   "execution_count": 4,
   "metadata": {},
   "outputs": [
    {
     "name": "stdout",
     "output_type": "stream",
     "text": [
      "[1] \"one\"\n",
      "[1] 1\n",
      "[1] \"two\"\n",
      "[1] 2\n"
     ]
    }
   ],
   "source": [
    "#let's use break to break out if there is missing values in a list\n",
    "\n",
    "lst = list(\"one\",1,\"two\",2,\" \",3)\n",
    "\n",
    "for (i in lst){\n",
    "    \n",
    "    if (i==\" \"){\n",
    "        break\n",
    "    }\n",
    "    else{\n",
    "        \n",
    "        print(i)\n",
    "    }\n",
    "}"
   ]
  },
  {
   "cell_type": "code",
   "execution_count": 5,
   "metadata": {},
   "outputs": [
    {
     "name": "stdout",
     "output_type": "stream",
     "text": [
      "[[1]]\n",
      "[1] \"one\"\n",
      "\n",
      "[[1]]\n",
      "[1] 1\n",
      "\n",
      "[[1]]\n",
      "[1] \"two\"\n",
      "\n",
      "[[1]]\n",
      "[1] 2\n",
      "\n"
     ]
    }
   ],
   "source": [
    "i=1\n",
    "lst = list(\"one\",1,\"two\",2,\" \",3)\n",
    "while (i<=length(lst)){\n",
    "    \n",
    "    if (lst[i]==\" \"){\n",
    "        break  \n",
    "    }\n",
    "    \n",
    "    else{\n",
    "        print(lst[i])\n",
    "    }\n",
    "    i = i+1\n",
    "}"
   ]
  },
  {
   "cell_type": "markdown",
   "metadata": {},
   "source": [
    "## Next Statement\n",
    "\n",
    "Next is used to skip the current iteration without breaking the loop on the basis of some condition."
   ]
  },
  {
   "cell_type": "code",
   "execution_count": 6,
   "metadata": {},
   "outputs": [
    {
     "name": "stdout",
     "output_type": "stream",
     "text": [
      "[1] \"one\"\n",
      "[1] 1\n",
      "[1] \"two\"\n",
      "[1] 2\n",
      "[1] 3\n"
     ]
    }
   ],
   "source": [
    "#let's use next to skip printing the missing values in a list\n",
    "\n",
    "lst = list(\"one\",1,\"two\",2,\" \",3)\n",
    "\n",
    "for (i in lst){\n",
    "    \n",
    "    if (i==\" \"){\n",
    "        next\n",
    "    }\n",
    "    else{\n",
    "        \n",
    "        print(i)\n",
    "    }\n",
    "}"
   ]
  },
  {
   "cell_type": "code",
   "execution_count": 7,
   "metadata": {},
   "outputs": [
    {
     "name": "stdout",
     "output_type": "stream",
     "text": [
      "[1] \"b\"\n",
      "[1] \"c\"\n",
      "[1] \"e\"\n",
      "[1] \"f\"\n"
     ]
    }
   ],
   "source": [
    "vec = c(\"A\",\"b\",\"C\",\"c\",\"D\",\"e\",\"f\")\n",
    "\n",
    "for (i in vec){\n",
    "    if (i == toupper(i)){\n",
    "        \n",
    "        next\n",
    "    }\n",
    "    else{\n",
    "        print(i)\n",
    "    }\n",
    "}"
   ]
  },
  {
   "cell_type": "markdown",
   "metadata": {},
   "source": [
    "### Repeat"
   ]
  },
  {
   "cell_type": "code",
   "execution_count": 8,
   "metadata": {},
   "outputs": [
    {
     "name": "stdout",
     "output_type": "stream",
     "text": [
      "[1] 1\n",
      "[1] 2\n",
      "[1] 3\n",
      "[1] 4\n",
      "[1] 5\n",
      "[1] 6\n",
      "[1] 7\n",
      "[1] 8\n",
      "[1] 9\n",
      "[1] 10\n"
     ]
    }
   ],
   "source": [
    "i=1\n",
    "repeat{\n",
    "    \n",
    "    print(i)\n",
    "    i=i+1\n",
    "    if(i>10){\n",
    "        \n",
    "        break\n",
    "    }\n",
    "}"
   ]
  },
  {
   "cell_type": "code",
   "execution_count": null,
   "metadata": {},
   "outputs": [],
   "source": []
  }
 ],
 "metadata": {
  "kernelspec": {
   "display_name": "R",
   "language": "R",
   "name": "ir"
  },
  "language_info": {
   "codemirror_mode": "r",
   "file_extension": ".r",
   "mimetype": "text/x-r-source",
   "name": "R",
   "pygments_lexer": "r",
   "version": "3.6.1"
  }
 },
 "nbformat": 4,
 "nbformat_minor": 4
}
