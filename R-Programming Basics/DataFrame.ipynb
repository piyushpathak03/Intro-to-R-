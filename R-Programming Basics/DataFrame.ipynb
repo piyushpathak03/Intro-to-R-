{
 "cells": [
  {
   "cell_type": "markdown",
   "metadata": {},
   "source": [
    "#### Dataframe"
   ]
  },
  {
   "cell_type": "markdown",
   "metadata": {},
   "source": [
    "Dataframe is a special kind of list in which the elements are of same length."
   ]
  },
  {
   "cell_type": "code",
   "execution_count": null,
   "metadata": {},
   "outputs": [],
   "source": [
    "vec1 = c(12L,13L,14L)\n",
    "vec2 = c(34L,35L,36L)\n",
    "vec3= c(45L,46L,47L)\n"
   ]
  },
  {
   "cell_type": "code",
   "execution_count": null,
   "metadata": {},
   "outputs": [],
   "source": [
    "df <- data.frame(vec1,vec2,vec3)"
   ]
  },
  {
   "cell_type": "code",
   "execution_count": null,
   "metadata": {},
   "outputs": [],
   "source": [
    "df"
   ]
  },
  {
   "cell_type": "code",
   "execution_count": null,
   "metadata": {},
   "outputs": [],
   "source": [
    "class(df)"
   ]
  },
  {
   "cell_type": "markdown",
   "metadata": {},
   "source": [
    "#### give name to the columns in dataframe\n"
   ]
  },
  {
   "cell_type": "code",
   "execution_count": null,
   "metadata": {},
   "outputs": [],
   "source": [
    "df <- data.frame(\"A\" =vec1,\"B\" = vec2, \"C\" =vec3 )"
   ]
  },
  {
   "cell_type": "code",
   "execution_count": null,
   "metadata": {},
   "outputs": [],
   "source": [
    "df"
   ]
  },
  {
   "cell_type": "code",
   "execution_count": null,
   "metadata": {},
   "outputs": [],
   "source": [
    "str(df)"
   ]
  },
  {
   "cell_type": "code",
   "execution_count": null,
   "metadata": {},
   "outputs": [],
   "source": [
    "names(df)"
   ]
  },
  {
   "cell_type": "code",
   "execution_count": null,
   "metadata": {},
   "outputs": [],
   "source": [
    "nrow(df)"
   ]
  },
  {
   "cell_type": "code",
   "execution_count": null,
   "metadata": {},
   "outputs": [],
   "source": [
    "ncol(df)"
   ]
  },
  {
   "cell_type": "code",
   "execution_count": null,
   "metadata": {},
   "outputs": [],
   "source": [
    "summary(df)"
   ]
  },
  {
   "cell_type": "code",
   "execution_count": null,
   "metadata": {},
   "outputs": [],
   "source": [
    "vec1 = c(\"Rohan\",\"Shyam\",\"John\")\n",
    "vec2 = c(30L,32L,28L)\n",
    "vec3= c(\"IT\",\"Doctor\",\"Actor\")\n",
    "\n",
    "list_ = list(vec1,vec2,vec3)"
   ]
  },
  {
   "cell_type": "code",
   "execution_count": null,
   "metadata": {},
   "outputs": [],
   "source": [
    "df_new = data.frame(list_)"
   ]
  },
  {
   "cell_type": "code",
   "execution_count": null,
   "metadata": {},
   "outputs": [],
   "source": [
    "df_new"
   ]
  },
  {
   "cell_type": "code",
   "execution_count": null,
   "metadata": {},
   "outputs": [],
   "source": [
    "names(df_new) = c(\"Name\",\"Age\",\"Profession\")"
   ]
  },
  {
   "cell_type": "code",
   "execution_count": null,
   "metadata": {},
   "outputs": [],
   "source": [
    "df_new"
   ]
  },
  {
   "cell_type": "markdown",
   "metadata": {},
   "source": [
    "#### Accessing elements from DataFrame"
   ]
  },
  {
   "cell_type": "code",
   "execution_count": 19,
   "metadata": {},
   "outputs": [
    {
     "data": {
      "text/html": [
       "<table>\n",
       "<caption>A data.frame: 3 × 3</caption>\n",
       "<thead>\n",
       "\t<tr><th scope=col>A</th><th scope=col>B</th><th scope=col>C</th></tr>\n",
       "\t<tr><th scope=col>&lt;int&gt;</th><th scope=col>&lt;int&gt;</th><th scope=col>&lt;int&gt;</th></tr>\n",
       "</thead>\n",
       "<tbody>\n",
       "\t<tr><td>12</td><td>34</td><td>45</td></tr>\n",
       "\t<tr><td>13</td><td>35</td><td>46</td></tr>\n",
       "\t<tr><td>14</td><td>36</td><td>47</td></tr>\n",
       "</tbody>\n",
       "</table>\n"
      ],
      "text/latex": [
       "A data.frame: 3 × 3\n",
       "\\begin{tabular}{lll}\n",
       " A & B & C\\\\\n",
       " <int> & <int> & <int>\\\\\n",
       "\\hline\n",
       "\t 12 & 34 & 45\\\\\n",
       "\t 13 & 35 & 46\\\\\n",
       "\t 14 & 36 & 47\\\\\n",
       "\\end{tabular}\n"
      ],
      "text/markdown": [
       "\n",
       "A data.frame: 3 × 3\n",
       "\n",
       "| A &lt;int&gt; | B &lt;int&gt; | C &lt;int&gt; |\n",
       "|---|---|---|\n",
       "| 12 | 34 | 45 |\n",
       "| 13 | 35 | 46 |\n",
       "| 14 | 36 | 47 |\n",
       "\n"
      ],
      "text/plain": [
       "  A  B  C \n",
       "1 12 34 45\n",
       "2 13 35 46\n",
       "3 14 36 47"
      ]
     },
     "metadata": {},
     "output_type": "display_data"
    }
   ],
   "source": [
    "df"
   ]
  },
  {
   "cell_type": "code",
   "execution_count": 20,
   "metadata": {},
   "outputs": [
    {
     "data": {
      "text/html": [
       "<table>\n",
       "<caption>A data.frame: 3 × 1</caption>\n",
       "<thead>\n",
       "\t<tr><th scope=col>A</th></tr>\n",
       "\t<tr><th scope=col>&lt;int&gt;</th></tr>\n",
       "</thead>\n",
       "<tbody>\n",
       "\t<tr><td>12</td></tr>\n",
       "\t<tr><td>13</td></tr>\n",
       "\t<tr><td>14</td></tr>\n",
       "</tbody>\n",
       "</table>\n"
      ],
      "text/latex": [
       "A data.frame: 3 × 1\n",
       "\\begin{tabular}{l}\n",
       " A\\\\\n",
       " <int>\\\\\n",
       "\\hline\n",
       "\t 12\\\\\n",
       "\t 13\\\\\n",
       "\t 14\\\\\n",
       "\\end{tabular}\n"
      ],
      "text/markdown": [
       "\n",
       "A data.frame: 3 × 1\n",
       "\n",
       "| A &lt;int&gt; |\n",
       "|---|\n",
       "| 12 |\n",
       "| 13 |\n",
       "| 14 |\n",
       "\n"
      ],
      "text/plain": [
       "  A \n",
       "1 12\n",
       "2 13\n",
       "3 14"
      ]
     },
     "metadata": {},
     "output_type": "display_data"
    }
   ],
   "source": [
    "df[\"A\"]"
   ]
  },
  {
   "cell_type": "code",
   "execution_count": 21,
   "metadata": {},
   "outputs": [
    {
     "data": {
      "text/html": [
       "<table>\n",
       "<caption>A data.frame: 3 × 1</caption>\n",
       "<thead>\n",
       "\t<tr><th scope=col>A</th></tr>\n",
       "\t<tr><th scope=col>&lt;int&gt;</th></tr>\n",
       "</thead>\n",
       "<tbody>\n",
       "\t<tr><td>12</td></tr>\n",
       "\t<tr><td>13</td></tr>\n",
       "\t<tr><td>14</td></tr>\n",
       "</tbody>\n",
       "</table>\n"
      ],
      "text/latex": [
       "A data.frame: 3 × 1\n",
       "\\begin{tabular}{l}\n",
       " A\\\\\n",
       " <int>\\\\\n",
       "\\hline\n",
       "\t 12\\\\\n",
       "\t 13\\\\\n",
       "\t 14\\\\\n",
       "\\end{tabular}\n"
      ],
      "text/markdown": [
       "\n",
       "A data.frame: 3 × 1\n",
       "\n",
       "| A &lt;int&gt; |\n",
       "|---|\n",
       "| 12 |\n",
       "| 13 |\n",
       "| 14 |\n",
       "\n"
      ],
      "text/plain": [
       "  A \n",
       "1 12\n",
       "2 13\n",
       "3 14"
      ]
     },
     "metadata": {},
     "output_type": "display_data"
    }
   ],
   "source": [
    "df[1]"
   ]
  },
  {
   "cell_type": "code",
   "execution_count": 22,
   "metadata": {},
   "outputs": [
    {
     "ename": "ERROR",
     "evalue": "Error in `[.data.frame`(df[1], 3): undefined columns selected\n",
     "output_type": "error",
     "traceback": [
      "Error in `[.data.frame`(df[1], 3): undefined columns selected\nTraceback:\n",
      "1. df[1][3]",
      "2. `[.data.frame`(df[1], 3)",
      "3. stop(\"undefined columns selected\")"
     ]
    }
   ],
   "source": [
    "df[1][3]"
   ]
  },
  {
   "cell_type": "code",
   "execution_count": 23,
   "metadata": {},
   "outputs": [
    {
     "data": {
      "text/html": [
       "<style>\n",
       ".list-inline {list-style: none; margin:0; padding: 0}\n",
       ".list-inline>li {display: inline-block}\n",
       ".list-inline>li:not(:last-child)::after {content: \"\\00b7\"; padding: 0 .5ex}\n",
       "</style>\n",
       "<ol class=list-inline><li>12</li><li>13</li><li>14</li></ol>\n"
      ],
      "text/latex": [
       "\\begin{enumerate*}\n",
       "\\item 12\n",
       "\\item 13\n",
       "\\item 14\n",
       "\\end{enumerate*}\n"
      ],
      "text/markdown": [
       "1. 12\n",
       "2. 13\n",
       "3. 14\n",
       "\n",
       "\n"
      ],
      "text/plain": [
       "[1] 12 13 14"
      ]
     },
     "metadata": {},
     "output_type": "display_data"
    }
   ],
   "source": [
    "df[[1]]"
   ]
  },
  {
   "cell_type": "code",
   "execution_count": 24,
   "metadata": {},
   "outputs": [
    {
     "data": {
      "text/html": [
       "13"
      ],
      "text/latex": [
       "13"
      ],
      "text/markdown": [
       "13"
      ],
      "text/plain": [
       "[1] 13"
      ]
     },
     "metadata": {},
     "output_type": "display_data"
    }
   ],
   "source": [
    "df[[1]][2]"
   ]
  },
  {
   "cell_type": "code",
   "execution_count": 25,
   "metadata": {},
   "outputs": [
    {
     "data": {
      "text/html": [
       "<table>\n",
       "<caption>A data.frame: 3 × 2</caption>\n",
       "<thead>\n",
       "\t<tr><th scope=col>A</th><th scope=col>B</th></tr>\n",
       "\t<tr><th scope=col>&lt;int&gt;</th><th scope=col>&lt;int&gt;</th></tr>\n",
       "</thead>\n",
       "<tbody>\n",
       "\t<tr><td>12</td><td>34</td></tr>\n",
       "\t<tr><td>13</td><td>35</td></tr>\n",
       "\t<tr><td>14</td><td>36</td></tr>\n",
       "</tbody>\n",
       "</table>\n"
      ],
      "text/latex": [
       "A data.frame: 3 × 2\n",
       "\\begin{tabular}{ll}\n",
       " A & B\\\\\n",
       " <int> & <int>\\\\\n",
       "\\hline\n",
       "\t 12 & 34\\\\\n",
       "\t 13 & 35\\\\\n",
       "\t 14 & 36\\\\\n",
       "\\end{tabular}\n"
      ],
      "text/markdown": [
       "\n",
       "A data.frame: 3 × 2\n",
       "\n",
       "| A &lt;int&gt; | B &lt;int&gt; |\n",
       "|---|---|\n",
       "| 12 | 34 |\n",
       "| 13 | 35 |\n",
       "| 14 | 36 |\n",
       "\n"
      ],
      "text/plain": [
       "  A  B \n",
       "1 12 34\n",
       "2 13 35\n",
       "3 14 36"
      ]
     },
     "metadata": {},
     "output_type": "display_data"
    }
   ],
   "source": [
    "df[c(\"A\",\"B\")]"
   ]
  },
  {
   "cell_type": "code",
   "execution_count": 26,
   "metadata": {},
   "outputs": [
    {
     "data": {
      "text/html": [
       "47"
      ],
      "text/latex": [
       "47"
      ],
      "text/markdown": [
       "47"
      ],
      "text/plain": [
       "[1] 47"
      ]
     },
     "metadata": {},
     "output_type": "display_data"
    }
   ],
   "source": [
    "df[[\"C\"]][3]"
   ]
  },
  {
   "cell_type": "code",
   "execution_count": 27,
   "metadata": {},
   "outputs": [
    {
     "data": {
      "text/html": [
       "<table>\n",
       "<caption>A data.frame: 3 × 2</caption>\n",
       "<thead>\n",
       "\t<tr><th scope=col>A</th><th scope=col>B</th></tr>\n",
       "\t<tr><th scope=col>&lt;int&gt;</th><th scope=col>&lt;int&gt;</th></tr>\n",
       "</thead>\n",
       "<tbody>\n",
       "\t<tr><td>12</td><td>34</td></tr>\n",
       "\t<tr><td>13</td><td>35</td></tr>\n",
       "\t<tr><td>14</td><td>36</td></tr>\n",
       "</tbody>\n",
       "</table>\n"
      ],
      "text/latex": [
       "A data.frame: 3 × 2\n",
       "\\begin{tabular}{ll}\n",
       " A & B\\\\\n",
       " <int> & <int>\\\\\n",
       "\\hline\n",
       "\t 12 & 34\\\\\n",
       "\t 13 & 35\\\\\n",
       "\t 14 & 36\\\\\n",
       "\\end{tabular}\n"
      ],
      "text/markdown": [
       "\n",
       "A data.frame: 3 × 2\n",
       "\n",
       "| A &lt;int&gt; | B &lt;int&gt; |\n",
       "|---|---|\n",
       "| 12 | 34 |\n",
       "| 13 | 35 |\n",
       "| 14 | 36 |\n",
       "\n"
      ],
      "text/plain": [
       "  A  B \n",
       "1 12 34\n",
       "2 13 35\n",
       "3 14 36"
      ]
     },
     "metadata": {},
     "output_type": "display_data"
    }
   ],
   "source": [
    "df[1:2]"
   ]
  },
  {
   "cell_type": "code",
   "execution_count": 28,
   "metadata": {},
   "outputs": [
    {
     "data": {
      "text/html": [
       "<table>\n",
       "<caption>A data.frame: 2 × 3</caption>\n",
       "<thead>\n",
       "\t<tr><th></th><th scope=col>A</th><th scope=col>B</th><th scope=col>C</th></tr>\n",
       "\t<tr><th></th><th scope=col>&lt;int&gt;</th><th scope=col>&lt;int&gt;</th><th scope=col>&lt;int&gt;</th></tr>\n",
       "</thead>\n",
       "<tbody>\n",
       "\t<tr><th scope=row>1</th><td>12</td><td>34</td><td>45</td></tr>\n",
       "\t<tr><th scope=row>2</th><td>13</td><td>35</td><td>46</td></tr>\n",
       "</tbody>\n",
       "</table>\n"
      ],
      "text/latex": [
       "A data.frame: 2 × 3\n",
       "\\begin{tabular}{r|lll}\n",
       "  & A & B & C\\\\\n",
       "  & <int> & <int> & <int>\\\\\n",
       "\\hline\n",
       "\t1 & 12 & 34 & 45\\\\\n",
       "\t2 & 13 & 35 & 46\\\\\n",
       "\\end{tabular}\n"
      ],
      "text/markdown": [
       "\n",
       "A data.frame: 2 × 3\n",
       "\n",
       "| <!--/--> | A &lt;int&gt; | B &lt;int&gt; | C &lt;int&gt; |\n",
       "|---|---|---|---|\n",
       "| 1 | 12 | 34 | 45 |\n",
       "| 2 | 13 | 35 | 46 |\n",
       "\n"
      ],
      "text/plain": [
       "  A  B  C \n",
       "1 12 34 45\n",
       "2 13 35 46"
      ]
     },
     "metadata": {},
     "output_type": "display_data"
    }
   ],
   "source": [
    "df[1:2,]\n"
   ]
  },
  {
   "cell_type": "code",
   "execution_count": 29,
   "metadata": {},
   "outputs": [
    {
     "data": {
      "text/html": [
       "<style>\n",
       ".list-inline {list-style: none; margin:0; padding: 0}\n",
       ".list-inline>li {display: inline-block}\n",
       ".list-inline>li:not(:last-child)::after {content: \"\\00b7\"; padding: 0 .5ex}\n",
       "</style>\n",
       "<ol class=list-inline><li>34</li><li>35</li></ol>\n"
      ],
      "text/latex": [
       "\\begin{enumerate*}\n",
       "\\item 34\n",
       "\\item 35\n",
       "\\end{enumerate*}\n"
      ],
      "text/markdown": [
       "1. 34\n",
       "2. 35\n",
       "\n",
       "\n"
      ],
      "text/plain": [
       "[1] 34 35"
      ]
     },
     "metadata": {},
     "output_type": "display_data"
    }
   ],
   "source": [
    "df[1:2,2]"
   ]
  },
  {
   "cell_type": "code",
   "execution_count": 30,
   "metadata": {},
   "outputs": [
    {
     "data": {
      "text/html": [
       "<table>\n",
       "<caption>A data.frame: 3 × 2</caption>\n",
       "<thead>\n",
       "\t<tr><th scope=col>B</th><th scope=col>C</th></tr>\n",
       "\t<tr><th scope=col>&lt;int&gt;</th><th scope=col>&lt;int&gt;</th></tr>\n",
       "</thead>\n",
       "<tbody>\n",
       "\t<tr><td>34</td><td>45</td></tr>\n",
       "\t<tr><td>35</td><td>46</td></tr>\n",
       "\t<tr><td>36</td><td>47</td></tr>\n",
       "</tbody>\n",
       "</table>\n"
      ],
      "text/latex": [
       "A data.frame: 3 × 2\n",
       "\\begin{tabular}{ll}\n",
       " B & C\\\\\n",
       " <int> & <int>\\\\\n",
       "\\hline\n",
       "\t 34 & 45\\\\\n",
       "\t 35 & 46\\\\\n",
       "\t 36 & 47\\\\\n",
       "\\end{tabular}\n"
      ],
      "text/markdown": [
       "\n",
       "A data.frame: 3 × 2\n",
       "\n",
       "| B &lt;int&gt; | C &lt;int&gt; |\n",
       "|---|---|\n",
       "| 34 | 45 |\n",
       "| 35 | 46 |\n",
       "| 36 | 47 |\n",
       "\n"
      ],
      "text/plain": [
       "  B  C \n",
       "1 34 45\n",
       "2 35 46\n",
       "3 36 47"
      ]
     },
     "metadata": {},
     "output_type": "display_data"
    }
   ],
   "source": [
    "df[,2:3]"
   ]
  },
  {
   "cell_type": "code",
   "execution_count": 33,
   "metadata": {},
   "outputs": [
    {
     "data": {
      "text/html": [
       "<style>\n",
       ".list-inline {list-style: none; margin:0; padding: 0}\n",
       ".list-inline>li {display: inline-block}\n",
       ".list-inline>li:not(:last-child)::after {content: \"\\00b7\"; padding: 0 .5ex}\n",
       "</style>\n",
       "<ol class=list-inline><li>12</li><li>13</li><li>14</li></ol>\n"
      ],
      "text/latex": [
       "\\begin{enumerate*}\n",
       "\\item 12\n",
       "\\item 13\n",
       "\\item 14\n",
       "\\end{enumerate*}\n"
      ],
      "text/markdown": [
       "1. 12\n",
       "2. 13\n",
       "3. 14\n",
       "\n",
       "\n"
      ],
      "text/plain": [
       "[1] 12 13 14"
      ]
     },
     "metadata": {},
     "output_type": "display_data"
    }
   ],
   "source": [
    "df$A"
   ]
  },
  {
   "cell_type": "code",
   "execution_count": 35,
   "metadata": {},
   "outputs": [
    {
     "data": {
      "text/html": [
       "<table>\n",
       "<caption>A data.frame: 3 × 3</caption>\n",
       "<thead>\n",
       "\t<tr><th scope=col>A</th><th scope=col>B</th><th scope=col>C</th></tr>\n",
       "\t<tr><th scope=col>&lt;int&gt;</th><th scope=col>&lt;int&gt;</th><th scope=col>&lt;int&gt;</th></tr>\n",
       "</thead>\n",
       "<tbody>\n",
       "\t<tr><td>12</td><td>34</td><td>45</td></tr>\n",
       "\t<tr><td>13</td><td>35</td><td>46</td></tr>\n",
       "\t<tr><td>14</td><td>36</td><td>47</td></tr>\n",
       "</tbody>\n",
       "</table>\n"
      ],
      "text/latex": [
       "A data.frame: 3 × 3\n",
       "\\begin{tabular}{lll}\n",
       " A & B & C\\\\\n",
       " <int> & <int> & <int>\\\\\n",
       "\\hline\n",
       "\t 12 & 34 & 45\\\\\n",
       "\t 13 & 35 & 46\\\\\n",
       "\t 14 & 36 & 47\\\\\n",
       "\\end{tabular}\n"
      ],
      "text/markdown": [
       "\n",
       "A data.frame: 3 × 3\n",
       "\n",
       "| A &lt;int&gt; | B &lt;int&gt; | C &lt;int&gt; |\n",
       "|---|---|---|\n",
       "| 12 | 34 | 45 |\n",
       "| 13 | 35 | 46 |\n",
       "| 14 | 36 | 47 |\n",
       "\n"
      ],
      "text/plain": [
       "  A  B  C \n",
       "1 12 34 45\n",
       "2 13 35 46\n",
       "3 14 36 47"
      ]
     },
     "metadata": {},
     "output_type": "display_data"
    }
   ],
   "source": [
    "df"
   ]
  },
  {
   "cell_type": "code",
   "execution_count": 34,
   "metadata": {},
   "outputs": [
    {
     "data": {
      "text/html": [
       "<style>\n",
       ".list-inline {list-style: none; margin:0; padding: 0}\n",
       ".list-inline>li {display: inline-block}\n",
       ".list-inline>li:not(:last-child)::after {content: \"\\00b7\"; padding: 0 .5ex}\n",
       "</style>\n",
       "<ol class=list-inline><li>FALSE</li><li>TRUE</li><li>TRUE</li></ol>\n"
      ],
      "text/latex": [
       "\\begin{enumerate*}\n",
       "\\item FALSE\n",
       "\\item TRUE\n",
       "\\item TRUE\n",
       "\\end{enumerate*}\n"
      ],
      "text/markdown": [
       "1. FALSE\n",
       "2. TRUE\n",
       "3. TRUE\n",
       "\n",
       "\n"
      ],
      "text/plain": [
       "[1] FALSE  TRUE  TRUE"
      ]
     },
     "metadata": {},
     "output_type": "display_data"
    }
   ],
   "source": [
    "df$C>45"
   ]
  },
  {
   "cell_type": "code",
   "execution_count": 36,
   "metadata": {},
   "outputs": [
    {
     "data": {
      "text/html": [
       "<table>\n",
       "<caption>A data.frame: 3 × 2</caption>\n",
       "<thead>\n",
       "\t<tr><th scope=col>B</th><th scope=col>C</th></tr>\n",
       "\t<tr><th scope=col>&lt;int&gt;</th><th scope=col>&lt;int&gt;</th></tr>\n",
       "</thead>\n",
       "<tbody>\n",
       "\t<tr><td>34</td><td>45</td></tr>\n",
       "\t<tr><td>35</td><td>46</td></tr>\n",
       "\t<tr><td>36</td><td>47</td></tr>\n",
       "</tbody>\n",
       "</table>\n"
      ],
      "text/latex": [
       "A data.frame: 3 × 2\n",
       "\\begin{tabular}{ll}\n",
       " B & C\\\\\n",
       " <int> & <int>\\\\\n",
       "\\hline\n",
       "\t 34 & 45\\\\\n",
       "\t 35 & 46\\\\\n",
       "\t 36 & 47\\\\\n",
       "\\end{tabular}\n"
      ],
      "text/markdown": [
       "\n",
       "A data.frame: 3 × 2\n",
       "\n",
       "| B &lt;int&gt; | C &lt;int&gt; |\n",
       "|---|---|\n",
       "| 34 | 45 |\n",
       "| 35 | 46 |\n",
       "| 36 | 47 |\n",
       "\n"
      ],
      "text/plain": [
       "  B  C \n",
       "1 34 45\n",
       "2 35 46\n",
       "3 36 47"
      ]
     },
     "metadata": {},
     "output_type": "display_data"
    }
   ],
   "source": [
    "df[c(FALSE,TRUE,TRUE)]"
   ]
  },
  {
   "cell_type": "code",
   "execution_count": 37,
   "metadata": {},
   "outputs": [
    {
     "data": {
      "text/html": [
       "<table>\n",
       "<caption>A data.frame: 2 × 3</caption>\n",
       "<thead>\n",
       "\t<tr><th></th><th scope=col>A</th><th scope=col>B</th><th scope=col>C</th></tr>\n",
       "\t<tr><th></th><th scope=col>&lt;int&gt;</th><th scope=col>&lt;int&gt;</th><th scope=col>&lt;int&gt;</th></tr>\n",
       "</thead>\n",
       "<tbody>\n",
       "\t<tr><th scope=row>2</th><td>13</td><td>35</td><td>46</td></tr>\n",
       "\t<tr><th scope=row>3</th><td>14</td><td>36</td><td>47</td></tr>\n",
       "</tbody>\n",
       "</table>\n"
      ],
      "text/latex": [
       "A data.frame: 2 × 3\n",
       "\\begin{tabular}{r|lll}\n",
       "  & A & B & C\\\\\n",
       "  & <int> & <int> & <int>\\\\\n",
       "\\hline\n",
       "\t2 & 13 & 35 & 46\\\\\n",
       "\t3 & 14 & 36 & 47\\\\\n",
       "\\end{tabular}\n"
      ],
      "text/markdown": [
       "\n",
       "A data.frame: 2 × 3\n",
       "\n",
       "| <!--/--> | A &lt;int&gt; | B &lt;int&gt; | C &lt;int&gt; |\n",
       "|---|---|---|---|\n",
       "| 2 | 13 | 35 | 46 |\n",
       "| 3 | 14 | 36 | 47 |\n",
       "\n"
      ],
      "text/plain": [
       "  A  B  C \n",
       "2 13 35 46\n",
       "3 14 36 47"
      ]
     },
     "metadata": {},
     "output_type": "display_data"
    }
   ],
   "source": [
    "df[c(FALSE,TRUE,TRUE),]"
   ]
  },
  {
   "cell_type": "code",
   "execution_count": null,
   "metadata": {},
   "outputs": [],
   "source": [
    "df$C>45"
   ]
  },
  {
   "cell_type": "code",
   "execution_count": 38,
   "metadata": {},
   "outputs": [
    {
     "data": {
      "text/html": [
       "<table>\n",
       "<caption>A data.frame: 2 × 3</caption>\n",
       "<thead>\n",
       "\t<tr><th></th><th scope=col>A</th><th scope=col>B</th><th scope=col>C</th></tr>\n",
       "\t<tr><th></th><th scope=col>&lt;int&gt;</th><th scope=col>&lt;int&gt;</th><th scope=col>&lt;int&gt;</th></tr>\n",
       "</thead>\n",
       "<tbody>\n",
       "\t<tr><th scope=row>2</th><td>13</td><td>35</td><td>46</td></tr>\n",
       "\t<tr><th scope=row>3</th><td>14</td><td>36</td><td>47</td></tr>\n",
       "</tbody>\n",
       "</table>\n"
      ],
      "text/latex": [
       "A data.frame: 2 × 3\n",
       "\\begin{tabular}{r|lll}\n",
       "  & A & B & C\\\\\n",
       "  & <int> & <int> & <int>\\\\\n",
       "\\hline\n",
       "\t2 & 13 & 35 & 46\\\\\n",
       "\t3 & 14 & 36 & 47\\\\\n",
       "\\end{tabular}\n"
      ],
      "text/markdown": [
       "\n",
       "A data.frame: 2 × 3\n",
       "\n",
       "| <!--/--> | A &lt;int&gt; | B &lt;int&gt; | C &lt;int&gt; |\n",
       "|---|---|---|---|\n",
       "| 2 | 13 | 35 | 46 |\n",
       "| 3 | 14 | 36 | 47 |\n",
       "\n"
      ],
      "text/plain": [
       "  A  B  C \n",
       "2 13 35 46\n",
       "3 14 36 47"
      ]
     },
     "metadata": {},
     "output_type": "display_data"
    }
   ],
   "source": [
    "df[df$C>45,]"
   ]
  },
  {
   "cell_type": "code",
   "execution_count": null,
   "metadata": {},
   "outputs": [],
   "source": []
  },
  {
   "cell_type": "markdown",
   "metadata": {},
   "source": [
    "#### Modifiying a Dataframe"
   ]
  },
  {
   "cell_type": "code",
   "execution_count": 39,
   "metadata": {},
   "outputs": [
    {
     "data": {
      "text/html": [
       "<table>\n",
       "<caption>A data.frame: 3 × 3</caption>\n",
       "<thead>\n",
       "\t<tr><th scope=col>A</th><th scope=col>B</th><th scope=col>C</th></tr>\n",
       "\t<tr><th scope=col>&lt;int&gt;</th><th scope=col>&lt;int&gt;</th><th scope=col>&lt;int&gt;</th></tr>\n",
       "</thead>\n",
       "<tbody>\n",
       "\t<tr><td>12</td><td>34</td><td>45</td></tr>\n",
       "\t<tr><td>13</td><td>35</td><td>46</td></tr>\n",
       "\t<tr><td>14</td><td>36</td><td>47</td></tr>\n",
       "</tbody>\n",
       "</table>\n"
      ],
      "text/latex": [
       "A data.frame: 3 × 3\n",
       "\\begin{tabular}{lll}\n",
       " A & B & C\\\\\n",
       " <int> & <int> & <int>\\\\\n",
       "\\hline\n",
       "\t 12 & 34 & 45\\\\\n",
       "\t 13 & 35 & 46\\\\\n",
       "\t 14 & 36 & 47\\\\\n",
       "\\end{tabular}\n"
      ],
      "text/markdown": [
       "\n",
       "A data.frame: 3 × 3\n",
       "\n",
       "| A &lt;int&gt; | B &lt;int&gt; | C &lt;int&gt; |\n",
       "|---|---|---|\n",
       "| 12 | 34 | 45 |\n",
       "| 13 | 35 | 46 |\n",
       "| 14 | 36 | 47 |\n",
       "\n"
      ],
      "text/plain": [
       "  A  B  C \n",
       "1 12 34 45\n",
       "2 13 35 46\n",
       "3 14 36 47"
      ]
     },
     "metadata": {},
     "output_type": "display_data"
    }
   ],
   "source": [
    "df"
   ]
  },
  {
   "cell_type": "code",
   "execution_count": 40,
   "metadata": {},
   "outputs": [],
   "source": [
    "df[\"D\"] = c(\"A\",\"B\",\"Z\") #adding a new column"
   ]
  },
  {
   "cell_type": "code",
   "execution_count": 41,
   "metadata": {},
   "outputs": [
    {
     "data": {
      "text/html": [
       "<table>\n",
       "<caption>A data.frame: 3 × 4</caption>\n",
       "<thead>\n",
       "\t<tr><th scope=col>A</th><th scope=col>B</th><th scope=col>C</th><th scope=col>D</th></tr>\n",
       "\t<tr><th scope=col>&lt;int&gt;</th><th scope=col>&lt;int&gt;</th><th scope=col>&lt;int&gt;</th><th scope=col>&lt;chr&gt;</th></tr>\n",
       "</thead>\n",
       "<tbody>\n",
       "\t<tr><td>12</td><td>34</td><td>45</td><td>A</td></tr>\n",
       "\t<tr><td>13</td><td>35</td><td>46</td><td>B</td></tr>\n",
       "\t<tr><td>14</td><td>36</td><td>47</td><td>Z</td></tr>\n",
       "</tbody>\n",
       "</table>\n"
      ],
      "text/latex": [
       "A data.frame: 3 × 4\n",
       "\\begin{tabular}{llll}\n",
       " A & B & C & D\\\\\n",
       " <int> & <int> & <int> & <chr>\\\\\n",
       "\\hline\n",
       "\t 12 & 34 & 45 & A\\\\\n",
       "\t 13 & 35 & 46 & B\\\\\n",
       "\t 14 & 36 & 47 & Z\\\\\n",
       "\\end{tabular}\n"
      ],
      "text/markdown": [
       "\n",
       "A data.frame: 3 × 4\n",
       "\n",
       "| A &lt;int&gt; | B &lt;int&gt; | C &lt;int&gt; | D &lt;chr&gt; |\n",
       "|---|---|---|---|\n",
       "| 12 | 34 | 45 | A |\n",
       "| 13 | 35 | 46 | B |\n",
       "| 14 | 36 | 47 | Z |\n",
       "\n"
      ],
      "text/plain": [
       "  A  B  C  D\n",
       "1 12 34 45 A\n",
       "2 13 35 46 B\n",
       "3 14 36 47 Z"
      ]
     },
     "metadata": {},
     "output_type": "display_data"
    }
   ],
   "source": [
    "df"
   ]
  },
  {
   "cell_type": "code",
   "execution_count": 42,
   "metadata": {},
   "outputs": [],
   "source": [
    "#using cbind() to add a column\n",
    "\n",
    "df = cbind(df,\"E\" = c(\"y\",\"n\",\"y\"))\n"
   ]
  },
  {
   "cell_type": "code",
   "execution_count": 43,
   "metadata": {},
   "outputs": [
    {
     "data": {
      "text/html": [
       "<table>\n",
       "<caption>A data.frame: 3 × 5</caption>\n",
       "<thead>\n",
       "\t<tr><th scope=col>A</th><th scope=col>B</th><th scope=col>C</th><th scope=col>D</th><th scope=col>E</th></tr>\n",
       "\t<tr><th scope=col>&lt;int&gt;</th><th scope=col>&lt;int&gt;</th><th scope=col>&lt;int&gt;</th><th scope=col>&lt;chr&gt;</th><th scope=col>&lt;fct&gt;</th></tr>\n",
       "</thead>\n",
       "<tbody>\n",
       "\t<tr><td>12</td><td>34</td><td>45</td><td>A</td><td>y</td></tr>\n",
       "\t<tr><td>13</td><td>35</td><td>46</td><td>B</td><td>n</td></tr>\n",
       "\t<tr><td>14</td><td>36</td><td>47</td><td>Z</td><td>y</td></tr>\n",
       "</tbody>\n",
       "</table>\n"
      ],
      "text/latex": [
       "A data.frame: 3 × 5\n",
       "\\begin{tabular}{lllll}\n",
       " A & B & C & D & E\\\\\n",
       " <int> & <int> & <int> & <chr> & <fct>\\\\\n",
       "\\hline\n",
       "\t 12 & 34 & 45 & A & y\\\\\n",
       "\t 13 & 35 & 46 & B & n\\\\\n",
       "\t 14 & 36 & 47 & Z & y\\\\\n",
       "\\end{tabular}\n"
      ],
      "text/markdown": [
       "\n",
       "A data.frame: 3 × 5\n",
       "\n",
       "| A &lt;int&gt; | B &lt;int&gt; | C &lt;int&gt; | D &lt;chr&gt; | E &lt;fct&gt; |\n",
       "|---|---|---|---|---|\n",
       "| 12 | 34 | 45 | A | y |\n",
       "| 13 | 35 | 46 | B | n |\n",
       "| 14 | 36 | 47 | Z | y |\n",
       "\n"
      ],
      "text/plain": [
       "  A  B  C  D E\n",
       "1 12 34 45 A y\n",
       "2 13 35 46 B n\n",
       "3 14 36 47 Z y"
      ]
     },
     "metadata": {},
     "output_type": "display_data"
    }
   ],
   "source": [
    "df"
   ]
  },
  {
   "cell_type": "code",
   "execution_count": 44,
   "metadata": {},
   "outputs": [],
   "source": [
    "df[[\"D\"]][1] <- \"X\" #modifying value in a column"
   ]
  },
  {
   "cell_type": "code",
   "execution_count": 45,
   "metadata": {},
   "outputs": [
    {
     "data": {
      "text/html": [
       "<table>\n",
       "<caption>A data.frame: 3 × 5</caption>\n",
       "<thead>\n",
       "\t<tr><th scope=col>A</th><th scope=col>B</th><th scope=col>C</th><th scope=col>D</th><th scope=col>E</th></tr>\n",
       "\t<tr><th scope=col>&lt;int&gt;</th><th scope=col>&lt;int&gt;</th><th scope=col>&lt;int&gt;</th><th scope=col>&lt;chr&gt;</th><th scope=col>&lt;fct&gt;</th></tr>\n",
       "</thead>\n",
       "<tbody>\n",
       "\t<tr><td>12</td><td>34</td><td>45</td><td>X</td><td>y</td></tr>\n",
       "\t<tr><td>13</td><td>35</td><td>46</td><td>B</td><td>n</td></tr>\n",
       "\t<tr><td>14</td><td>36</td><td>47</td><td>Z</td><td>y</td></tr>\n",
       "</tbody>\n",
       "</table>\n"
      ],
      "text/latex": [
       "A data.frame: 3 × 5\n",
       "\\begin{tabular}{lllll}\n",
       " A & B & C & D & E\\\\\n",
       " <int> & <int> & <int> & <chr> & <fct>\\\\\n",
       "\\hline\n",
       "\t 12 & 34 & 45 & X & y\\\\\n",
       "\t 13 & 35 & 46 & B & n\\\\\n",
       "\t 14 & 36 & 47 & Z & y\\\\\n",
       "\\end{tabular}\n"
      ],
      "text/markdown": [
       "\n",
       "A data.frame: 3 × 5\n",
       "\n",
       "| A &lt;int&gt; | B &lt;int&gt; | C &lt;int&gt; | D &lt;chr&gt; | E &lt;fct&gt; |\n",
       "|---|---|---|---|---|\n",
       "| 12 | 34 | 45 | X | y |\n",
       "| 13 | 35 | 46 | B | n |\n",
       "| 14 | 36 | 47 | Z | y |\n",
       "\n"
      ],
      "text/plain": [
       "  A  B  C  D E\n",
       "1 12 34 45 X y\n",
       "2 13 35 46 B n\n",
       "3 14 36 47 Z y"
      ]
     },
     "metadata": {},
     "output_type": "display_data"
    }
   ],
   "source": [
    "df"
   ]
  },
  {
   "cell_type": "code",
   "execution_count": 46,
   "metadata": {},
   "outputs": [],
   "source": [
    "## adding a new row\n",
    "\n",
    "df[4,] = c(67,68,69,\"A\",\"n\")"
   ]
  },
  {
   "cell_type": "code",
   "execution_count": 47,
   "metadata": {},
   "outputs": [
    {
     "data": {
      "text/html": [
       "<table>\n",
       "<caption>A data.frame: 4 × 5</caption>\n",
       "<thead>\n",
       "\t<tr><th></th><th scope=col>A</th><th scope=col>B</th><th scope=col>C</th><th scope=col>D</th><th scope=col>E</th></tr>\n",
       "\t<tr><th></th><th scope=col>&lt;chr&gt;</th><th scope=col>&lt;chr&gt;</th><th scope=col>&lt;chr&gt;</th><th scope=col>&lt;chr&gt;</th><th scope=col>&lt;fct&gt;</th></tr>\n",
       "</thead>\n",
       "<tbody>\n",
       "\t<tr><th scope=row>1</th><td>12</td><td>34</td><td>45</td><td>X</td><td>y</td></tr>\n",
       "\t<tr><th scope=row>2</th><td>13</td><td>35</td><td>46</td><td>B</td><td>n</td></tr>\n",
       "\t<tr><th scope=row>3</th><td>14</td><td>36</td><td>47</td><td>Z</td><td>y</td></tr>\n",
       "\t<tr><th scope=row>4</th><td>67</td><td>68</td><td>69</td><td>A</td><td>n</td></tr>\n",
       "</tbody>\n",
       "</table>\n"
      ],
      "text/latex": [
       "A data.frame: 4 × 5\n",
       "\\begin{tabular}{r|lllll}\n",
       "  & A & B & C & D & E\\\\\n",
       "  & <chr> & <chr> & <chr> & <chr> & <fct>\\\\\n",
       "\\hline\n",
       "\t1 & 12 & 34 & 45 & X & y\\\\\n",
       "\t2 & 13 & 35 & 46 & B & n\\\\\n",
       "\t3 & 14 & 36 & 47 & Z & y\\\\\n",
       "\t4 & 67 & 68 & 69 & A & n\\\\\n",
       "\\end{tabular}\n"
      ],
      "text/markdown": [
       "\n",
       "A data.frame: 4 × 5\n",
       "\n",
       "| <!--/--> | A &lt;chr&gt; | B &lt;chr&gt; | C &lt;chr&gt; | D &lt;chr&gt; | E &lt;fct&gt; |\n",
       "|---|---|---|---|---|---|\n",
       "| 1 | 12 | 34 | 45 | X | y |\n",
       "| 2 | 13 | 35 | 46 | B | n |\n",
       "| 3 | 14 | 36 | 47 | Z | y |\n",
       "| 4 | 67 | 68 | 69 | A | n |\n",
       "\n"
      ],
      "text/plain": [
       "  A  B  C  D E\n",
       "1 12 34 45 X y\n",
       "2 13 35 46 B n\n",
       "3 14 36 47 Z y\n",
       "4 67 68 69 A n"
      ]
     },
     "metadata": {},
     "output_type": "display_data"
    }
   ],
   "source": [
    "df"
   ]
  },
  {
   "cell_type": "code",
   "execution_count": 48,
   "metadata": {},
   "outputs": [],
   "source": [
    "# we can also use \"rbind\" method to add a row\n",
    "\n",
    "df = rbind(df,c(55,56,57,\"B\",\"y\"))"
   ]
  },
  {
   "cell_type": "code",
   "execution_count": 49,
   "metadata": {},
   "outputs": [
    {
     "data": {
      "text/html": [
       "<table>\n",
       "<caption>A data.frame: 5 × 5</caption>\n",
       "<thead>\n",
       "\t<tr><th scope=col>A</th><th scope=col>B</th><th scope=col>C</th><th scope=col>D</th><th scope=col>E</th></tr>\n",
       "\t<tr><th scope=col>&lt;chr&gt;</th><th scope=col>&lt;chr&gt;</th><th scope=col>&lt;chr&gt;</th><th scope=col>&lt;chr&gt;</th><th scope=col>&lt;fct&gt;</th></tr>\n",
       "</thead>\n",
       "<tbody>\n",
       "\t<tr><td>12</td><td>34</td><td>45</td><td>X</td><td>y</td></tr>\n",
       "\t<tr><td>13</td><td>35</td><td>46</td><td>B</td><td>n</td></tr>\n",
       "\t<tr><td>14</td><td>36</td><td>47</td><td>Z</td><td>y</td></tr>\n",
       "\t<tr><td>67</td><td>68</td><td>69</td><td>A</td><td>n</td></tr>\n",
       "\t<tr><td>55</td><td>56</td><td>57</td><td>B</td><td>y</td></tr>\n",
       "</tbody>\n",
       "</table>\n"
      ],
      "text/latex": [
       "A data.frame: 5 × 5\n",
       "\\begin{tabular}{lllll}\n",
       " A & B & C & D & E\\\\\n",
       " <chr> & <chr> & <chr> & <chr> & <fct>\\\\\n",
       "\\hline\n",
       "\t 12 & 34 & 45 & X & y\\\\\n",
       "\t 13 & 35 & 46 & B & n\\\\\n",
       "\t 14 & 36 & 47 & Z & y\\\\\n",
       "\t 67 & 68 & 69 & A & n\\\\\n",
       "\t 55 & 56 & 57 & B & y\\\\\n",
       "\\end{tabular}\n"
      ],
      "text/markdown": [
       "\n",
       "A data.frame: 5 × 5\n",
       "\n",
       "| A &lt;chr&gt; | B &lt;chr&gt; | C &lt;chr&gt; | D &lt;chr&gt; | E &lt;fct&gt; |\n",
       "|---|---|---|---|---|\n",
       "| 12 | 34 | 45 | X | y |\n",
       "| 13 | 35 | 46 | B | n |\n",
       "| 14 | 36 | 47 | Z | y |\n",
       "| 67 | 68 | 69 | A | n |\n",
       "| 55 | 56 | 57 | B | y |\n",
       "\n"
      ],
      "text/plain": [
       "  A  B  C  D E\n",
       "1 12 34 45 X y\n",
       "2 13 35 46 B n\n",
       "3 14 36 47 Z y\n",
       "4 67 68 69 A n\n",
       "5 55 56 57 B y"
      ]
     },
     "metadata": {},
     "output_type": "display_data"
    }
   ],
   "source": [
    "df"
   ]
  },
  {
   "cell_type": "code",
   "execution_count": 50,
   "metadata": {},
   "outputs": [
    {
     "data": {
      "text/html": [
       "5"
      ],
      "text/latex": [
       "5"
      ],
      "text/markdown": [
       "5"
      ],
      "text/plain": [
       "[1] 5"
      ]
     },
     "metadata": {},
     "output_type": "display_data"
    }
   ],
   "source": [
    "ncol(df)"
   ]
  },
  {
   "cell_type": "code",
   "execution_count": 51,
   "metadata": {},
   "outputs": [
    {
     "data": {
      "text/html": [
       "5"
      ],
      "text/latex": [
       "5"
      ],
      "text/markdown": [
       "5"
      ],
      "text/plain": [
       "[1] 5"
      ]
     },
     "metadata": {},
     "output_type": "display_data"
    }
   ],
   "source": [
    "nrow(df)"
   ]
  },
  {
   "cell_type": "code",
   "execution_count": 52,
   "metadata": {},
   "outputs": [
    {
     "data": {
      "text/html": [
       "<table>\n",
       "<caption>A data.frame: 5 × 5</caption>\n",
       "<thead>\n",
       "\t<tr><th scope=col>A</th><th scope=col>B</th><th scope=col>C</th><th scope=col>D</th><th scope=col>E</th></tr>\n",
       "\t<tr><th scope=col>&lt;chr&gt;</th><th scope=col>&lt;chr&gt;</th><th scope=col>&lt;chr&gt;</th><th scope=col>&lt;chr&gt;</th><th scope=col>&lt;fct&gt;</th></tr>\n",
       "</thead>\n",
       "<tbody>\n",
       "\t<tr><td>12</td><td>34</td><td>45</td><td>X</td><td>y</td></tr>\n",
       "\t<tr><td>13</td><td>35</td><td>46</td><td>B</td><td>n</td></tr>\n",
       "\t<tr><td>14</td><td>36</td><td>47</td><td>Z</td><td>y</td></tr>\n",
       "\t<tr><td>67</td><td>68</td><td>69</td><td>A</td><td>n</td></tr>\n",
       "\t<tr><td>55</td><td>56</td><td>57</td><td>B</td><td>y</td></tr>\n",
       "</tbody>\n",
       "</table>\n"
      ],
      "text/latex": [
       "A data.frame: 5 × 5\n",
       "\\begin{tabular}{lllll}\n",
       " A & B & C & D & E\\\\\n",
       " <chr> & <chr> & <chr> & <chr> & <fct>\\\\\n",
       "\\hline\n",
       "\t 12 & 34 & 45 & X & y\\\\\n",
       "\t 13 & 35 & 46 & B & n\\\\\n",
       "\t 14 & 36 & 47 & Z & y\\\\\n",
       "\t 67 & 68 & 69 & A & n\\\\\n",
       "\t 55 & 56 & 57 & B & y\\\\\n",
       "\\end{tabular}\n"
      ],
      "text/markdown": [
       "\n",
       "A data.frame: 5 × 5\n",
       "\n",
       "| A &lt;chr&gt; | B &lt;chr&gt; | C &lt;chr&gt; | D &lt;chr&gt; | E &lt;fct&gt; |\n",
       "|---|---|---|---|---|\n",
       "| 12 | 34 | 45 | X | y |\n",
       "| 13 | 35 | 46 | B | n |\n",
       "| 14 | 36 | 47 | Z | y |\n",
       "| 67 | 68 | 69 | A | n |\n",
       "| 55 | 56 | 57 | B | y |\n",
       "\n"
      ],
      "text/plain": [
       "  A  B  C  D E\n",
       "1 12 34 45 X y\n",
       "2 13 35 46 B n\n",
       "3 14 36 47 Z y\n",
       "4 67 68 69 A n\n",
       "5 55 56 57 B y"
      ]
     },
     "metadata": {},
     "output_type": "display_data"
    }
   ],
   "source": [
    "df"
   ]
  },
  {
   "cell_type": "markdown",
   "metadata": {},
   "source": [
    "#### Deleting elements from Dataframe"
   ]
  },
  {
   "cell_type": "code",
   "execution_count": 53,
   "metadata": {},
   "outputs": [],
   "source": [
    "df$E <- NULL"
   ]
  },
  {
   "cell_type": "code",
   "execution_count": 54,
   "metadata": {},
   "outputs": [
    {
     "name": "stdout",
     "output_type": "stream",
     "text": [
      "   A  B  C D\n",
      "1 12 34 45 X\n",
      "2 13 35 46 B\n",
      "3 14 36 47 Z\n",
      "4 67 68 69 A\n",
      "5 55 56 57 B\n"
     ]
    }
   ],
   "source": [
    "print(df)"
   ]
  },
  {
   "cell_type": "code",
   "execution_count": 55,
   "metadata": {},
   "outputs": [
    {
     "data": {
      "text/html": [
       "4"
      ],
      "text/latex": [
       "4"
      ],
      "text/markdown": [
       "4"
      ],
      "text/plain": [
       "[1] 4"
      ]
     },
     "metadata": {},
     "output_type": "display_data"
    }
   ],
   "source": [
    "ncol(df)"
   ]
  },
  {
   "cell_type": "code",
   "execution_count": 56,
   "metadata": {},
   "outputs": [],
   "source": [
    "##dropping rows\n",
    "\n",
    "df <- df[-5,]"
   ]
  },
  {
   "cell_type": "code",
   "execution_count": 57,
   "metadata": {},
   "outputs": [
    {
     "data": {
      "text/html": [
       "<table>\n",
       "<caption>A data.frame: 4 × 4</caption>\n",
       "<thead>\n",
       "\t<tr><th></th><th scope=col>A</th><th scope=col>B</th><th scope=col>C</th><th scope=col>D</th></tr>\n",
       "\t<tr><th></th><th scope=col>&lt;chr&gt;</th><th scope=col>&lt;chr&gt;</th><th scope=col>&lt;chr&gt;</th><th scope=col>&lt;chr&gt;</th></tr>\n",
       "</thead>\n",
       "<tbody>\n",
       "\t<tr><th scope=row>1</th><td>12</td><td>34</td><td>45</td><td>X</td></tr>\n",
       "\t<tr><th scope=row>2</th><td>13</td><td>35</td><td>46</td><td>B</td></tr>\n",
       "\t<tr><th scope=row>3</th><td>14</td><td>36</td><td>47</td><td>Z</td></tr>\n",
       "\t<tr><th scope=row>4</th><td>67</td><td>68</td><td>69</td><td>A</td></tr>\n",
       "</tbody>\n",
       "</table>\n"
      ],
      "text/latex": [
       "A data.frame: 4 × 4\n",
       "\\begin{tabular}{r|llll}\n",
       "  & A & B & C & D\\\\\n",
       "  & <chr> & <chr> & <chr> & <chr>\\\\\n",
       "\\hline\n",
       "\t1 & 12 & 34 & 45 & X\\\\\n",
       "\t2 & 13 & 35 & 46 & B\\\\\n",
       "\t3 & 14 & 36 & 47 & Z\\\\\n",
       "\t4 & 67 & 68 & 69 & A\\\\\n",
       "\\end{tabular}\n"
      ],
      "text/markdown": [
       "\n",
       "A data.frame: 4 × 4\n",
       "\n",
       "| <!--/--> | A &lt;chr&gt; | B &lt;chr&gt; | C &lt;chr&gt; | D &lt;chr&gt; |\n",
       "|---|---|---|---|---|\n",
       "| 1 | 12 | 34 | 45 | X |\n",
       "| 2 | 13 | 35 | 46 | B |\n",
       "| 3 | 14 | 36 | 47 | Z |\n",
       "| 4 | 67 | 68 | 69 | A |\n",
       "\n"
      ],
      "text/plain": [
       "  A  B  C  D\n",
       "1 12 34 45 X\n",
       "2 13 35 46 B\n",
       "3 14 36 47 Z\n",
       "4 67 68 69 A"
      ]
     },
     "metadata": {},
     "output_type": "display_data"
    }
   ],
   "source": [
    "df"
   ]
  },
  {
   "cell_type": "code",
   "execution_count": 58,
   "metadata": {},
   "outputs": [
    {
     "data": {
      "text/html": [
       "4"
      ],
      "text/latex": [
       "4"
      ],
      "text/markdown": [
       "4"
      ],
      "text/plain": [
       "[1] 4"
      ]
     },
     "metadata": {},
     "output_type": "display_data"
    }
   ],
   "source": [
    "nrow(df)"
   ]
  },
  {
   "cell_type": "code",
   "execution_count": null,
   "metadata": {},
   "outputs": [],
   "source": []
  }
 ],
 "metadata": {
  "kernelspec": {
   "display_name": "R",
   "language": "R",
   "name": "ir"
  },
  "language_info": {
   "codemirror_mode": "r",
   "file_extension": ".r",
   "mimetype": "text/x-r-source",
   "name": "R",
   "pygments_lexer": "r",
   "version": "3.6.1"
  }
 },
 "nbformat": 4,
 "nbformat_minor": 4
}
