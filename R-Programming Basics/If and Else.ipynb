{
 "cells": [
  {
   "cell_type": "markdown",
   "metadata": {},
   "source": [
    "## If And Else Statement\n",
    "\n",
    "Let's now talk about conditional statments in R.\n",
    "\n",
    "As we make different decisions in real life based on some conditions, similary we can execute different tasks using our conditional statements such as If and else."
   ]
  },
  {
   "cell_type": "markdown",
   "metadata": {},
   "source": [
    "#### Using If\n",
    "\n",
    "###### Syntax\n",
    "\n",
    "if (condition) {\n",
    "    \n",
    "    Exectuion Statement\n",
    "}\n",
    "\n",
    "\n",
    "\n",
    "When the \"condition\" is true, then the \"Exectuion Statement\" will be executed, whereas if the \"condition\" is false, then nothing will execute."
   ]
  },
  {
   "cell_type": "code",
   "execution_count": 17,
   "metadata": {},
   "outputs": [
    {
     "name": "stdout",
     "output_type": "stream",
     "text": [
      "[1] \"Condition is True!!\"\n"
     ]
    }
   ],
   "source": [
    "a = TRUE\n",
    "b = FALSE\n",
    "\n",
    "if (a) {\n",
    "    \n",
    "    print(\"Condition is True!!\")\n",
    "}\n",
    "    "
   ]
  },
  {
   "cell_type": "code",
   "execution_count": 18,
   "metadata": {},
   "outputs": [],
   "source": [
    "if (b) {\n",
    "    \n",
    "    print(\"Condition is True!!\")\n",
    "}\n",
    "    "
   ]
  },
  {
   "cell_type": "code",
   "execution_count": 19,
   "metadata": {},
   "outputs": [
    {
     "name": "stdout",
     "output_type": "stream",
     "text": [
      "[1] \"True\"\n"
     ]
    }
   ],
   "source": [
    "a <- \"1234\"\n",
    "\n",
    "if (is.character(a)){\n",
    "    print(\"True\")\n",
    "}"
   ]
  },
  {
   "cell_type": "code",
   "execution_count": 21,
   "metadata": {},
   "outputs": [],
   "source": [
    "vec1 <-c(0,1)"
   ]
  },
  {
   "cell_type": "code",
   "execution_count": 22,
   "metadata": {},
   "outputs": [
    {
     "name": "stderr",
     "output_type": "stream",
     "text": [
      "Warning message in if (vec1) {:\n",
      "\"the condition has length > 1 and only the first element will be used\"\n"
     ]
    }
   ],
   "source": [
    "if (vec1){\n",
    "    \n",
    "    print(\"First element is non-zero\")\n",
    "}"
   ]
  },
  {
   "cell_type": "code",
   "execution_count": 23,
   "metadata": {},
   "outputs": [],
   "source": [
    "vec1 <- c(1,0)"
   ]
  },
  {
   "cell_type": "code",
   "execution_count": 24,
   "metadata": {},
   "outputs": [
    {
     "name": "stderr",
     "output_type": "stream",
     "text": [
      "Warning message in if (vec1) {:\n",
      "\"the condition has length > 1 and only the first element will be used\"\n"
     ]
    },
    {
     "name": "stdout",
     "output_type": "stream",
     "text": [
      "[1] \"First element is non-zero\"\n"
     ]
    }
   ],
   "source": [
    "if (vec1) {\n",
    "    \n",
    "    print(\"First element is non-zero\")\n",
    "}"
   ]
  },
  {
   "cell_type": "markdown",
   "metadata": {},
   "source": [
    "#### Using Else\n",
    "\n",
    "Now that we have seen the uses of \"if\" statement, let's now talk about \"else\" statment.\n",
    "In the above example we have written an execution statement that will run when the condition given in \"if\" statement is TRUE but what if we need to execute some other specific statement when the condition is FALSE? \n",
    "\n",
    "In such condition, we can use \"Else\" statement to execute some statment when our condition is not true.\n",
    "\n",
    "##### Syntax\n",
    "\n",
    "if (condition) {\n",
    "    \n",
    "    Exectuion Statement when condition is True\n",
    "} else {\n",
    "    \n",
    "    Execution Statement when condition is false\n",
    "}\n"
   ]
  },
  {
   "cell_type": "code",
   "execution_count": 25,
   "metadata": {},
   "outputs": [
    {
     "name": "stdout",
     "output_type": "stream",
     "text": [
      "[1] \"Condition is True!!\"\n"
     ]
    }
   ],
   "source": [
    "a = TRUE\n",
    "b = FALSE\n",
    "\n",
    "if (a) {\n",
    "    \n",
    "    print(\"Condition is True!!\")\n",
    "} else {\n",
    "    \n",
    "    print(\"Condition is False!!\")\n",
    "}"
   ]
  },
  {
   "cell_type": "code",
   "execution_count": 26,
   "metadata": {},
   "outputs": [
    {
     "name": "stdout",
     "output_type": "stream",
     "text": [
      "[1] \"Condition is False!!\"\n"
     ]
    }
   ],
   "source": [
    "if (b) {\n",
    "    \n",
    "    print(\"Condition is True!!\")\n",
    "} else {\n",
    "    \n",
    "    print(\"Condition is False!!\")\n",
    "}"
   ]
  },
  {
   "cell_type": "code",
   "execution_count": 27,
   "metadata": {},
   "outputs": [
    {
     "name": "stderr",
     "output_type": "stream",
     "text": [
      "Warning message in if (vec1) {:\n",
      "\"the condition has length > 1 and only the first element will be used\"\n"
     ]
    },
    {
     "name": "stdout",
     "output_type": "stream",
     "text": [
      "[1] \"First element is zero\"\n"
     ]
    }
   ],
   "source": [
    "vec1 <-c(0,1)\n",
    "\n",
    "if (vec1){\n",
    "    \n",
    "    print(\"First element is non-zero\")\n",
    "} else {\n",
    "    print(\"First element is zero\" )\n",
    "}"
   ]
  },
  {
   "cell_type": "markdown",
   "metadata": {},
   "source": [
    "#### Nested If Else statements\n",
    "\n",
    "Now we understand about both \"if\" and \"else\" statements and have seen their respective uses. But when you write a set of code in real time, it won't always be the situation for you to have only two staements to execute on the basis of a given conditions. We may have situations with multiple conditions to check and for each condition we would have to execute different set of codes.\n",
    "\n",
    "In such cases, we can use a nested IF and Else statements i.e. using multiple if and else statements in a single code.\n",
    "\n",
    "\n",
    "##### Syntax\n",
    "\n",
    "if (condition 1) {\n",
    "    \n",
    "    Exectuion Statement when condition 1 is True\n",
    "} else if (condition 2) {\n",
    "        \n",
    "    Exectuion Statement when condition 2 is True\n",
    "} else if (condition 3) {\n",
    "        \n",
    "    Exectuion Statement when condition 3 is True\n",
    "}\n",
    "\n",
    "else {\n",
    "        \n",
    "    Exectuion Statement when all the conditions are false\n",
    "}\n"
   ]
  },
  {
   "cell_type": "code",
   "execution_count": 29,
   "metadata": {},
   "outputs": [
    {
     "name": "stdout",
     "output_type": "stream",
     "text": [
      "[1] \"None are true!!\"\n"
     ]
    }
   ],
   "source": [
    "a = FALSE\n",
    "b = FALSE\n",
    "\n",
    "if (b) {\n",
    "    \n",
    "    print(\"b is True!!\")\n",
    "} else if (a)  {\n",
    "    \n",
    "    print(\"a is True!!\")\n",
    "} else{\n",
    "    \n",
    "    print(\"None are true!!\")\n",
    "}"
   ]
  },
  {
   "cell_type": "markdown",
   "metadata": {},
   "source": [
    "Let's use nested if and else to write a code to check what tax bracket a person is in on the basis of his her salary. We will recieve input from user for his name and salary."
   ]
  },
  {
   "cell_type": "code",
   "execution_count": 37,
   "metadata": {},
   "outputs": [
    {
     "name": "stdin",
     "output_type": "stream",
     "text": [
      "What is your name? mk\n",
      "What is your salary? 75000\n"
     ]
    }
   ],
   "source": [
    "name = readline(\"What is your name?\")\n",
    "salary = as.integer(readline(\"What is your salary?\"))"
   ]
  },
  {
   "cell_type": "code",
   "execution_count": 38,
   "metadata": {},
   "outputs": [
    {
     "data": {
      "text/html": [
       "'mk'"
      ],
      "text/latex": [
       "'mk'"
      ],
      "text/markdown": [
       "'mk'"
      ],
      "text/plain": [
       "[1] \"mk\""
      ]
     },
     "metadata": {},
     "output_type": "display_data"
    }
   ],
   "source": [
    "name"
   ]
  },
  {
   "cell_type": "code",
   "execution_count": 39,
   "metadata": {},
   "outputs": [
    {
     "data": {
      "text/html": [
       "75000"
      ],
      "text/latex": [
       "75000"
      ],
      "text/markdown": [
       "75000"
      ],
      "text/plain": [
       "[1] 75000"
      ]
     },
     "metadata": {},
     "output_type": "display_data"
    }
   ],
   "source": [
    "salary"
   ]
  },
  {
   "cell_type": "code",
   "execution_count": 40,
   "metadata": {},
   "outputs": [
    {
     "name": "stdout",
     "output_type": "stream",
     "text": [
      "Tax to be charged is 7.5% of per annum salary \n",
      "                                        and the tax is 5625"
     ]
    }
   ],
   "source": [
    "if ((salary) <20000){\n",
    "    print(\"No tax to be charged.\")\n",
    "} else if ((salary) >20000 && (salary) <30000){\n",
    "    cat(\"Tax to be charged is 2.5% of per annum salary\",\"\n",
    "                                        and the tax is\", 2.5*salary/100)\n",
    "} else if ((salary) > 30000 && (salary) <60000){\n",
    "    cat(\"Tax to be charged is 5% of per annum salary\",\"and the tax is :\", 5*(salary)/100)\n",
    "} else {\n",
    "    cat(\"Tax to be charged is 7.5% of per annum salary\",\"\n",
    "                                        and the tax is\", 7.5*(salary)/100)\n",
    "} "
   ]
  },
  {
   "cell_type": "markdown",
   "metadata": {},
   "source": [
    "#### ifelse() Function\n",
    "\n",
    "\n",
    "There is a function defined in R \"ifelse()\" which can be used with an entire vector to test certain conditions with an simple syntax.\n",
    "\n",
    "this function returns value of same size as the variable/vector.\n",
    "\n",
    "##### Syntax\n",
    "\n",
    "ifelse(condition, statement to execute if true, statement to execute if false)"
   ]
  },
  {
   "cell_type": "code",
   "execution_count": 41,
   "metadata": {},
   "outputs": [
    {
     "data": {
      "text/html": [
       "<style>\n",
       ".list-inline {list-style: none; margin:0; padding: 0}\n",
       ".list-inline>li {display: inline-block}\n",
       ".list-inline>li:not(:last-child)::after {content: \"\\00b7\"; padding: 0 .5ex}\n",
       "</style>\n",
       "<ol class=list-inline><li>-4</li><li>-3</li><li>-2</li><li>-1</li><li>0</li><li>1</li><li>2</li></ol>\n"
      ],
      "text/latex": [
       "\\begin{enumerate*}\n",
       "\\item -4\n",
       "\\item -3\n",
       "\\item -2\n",
       "\\item -1\n",
       "\\item 0\n",
       "\\item 1\n",
       "\\item 2\n",
       "\\end{enumerate*}\n"
      ],
      "text/markdown": [
       "1. -4\n",
       "2. -3\n",
       "3. -2\n",
       "4. -1\n",
       "5. 0\n",
       "6. 1\n",
       "7. 2\n",
       "\n",
       "\n"
      ],
      "text/plain": [
       "[1] -4 -3 -2 -1  0  1  2"
      ]
     },
     "metadata": {},
     "output_type": "display_data"
    }
   ],
   "source": [
    "vec1  = c(-4:2)\n",
    "vec1"
   ]
  },
  {
   "cell_type": "code",
   "execution_count": 42,
   "metadata": {},
   "outputs": [
    {
     "name": "stdout",
     "output_type": "stream",
     "text": [
      "[1] -1.250000 -1.666667 -2.500000 -5.000000       Inf  5.000000  2.500000\n"
     ]
    }
   ],
   "source": [
    "print(5/vec1)"
   ]
  },
  {
   "cell_type": "code",
   "execution_count": 43,
   "metadata": {},
   "outputs": [
    {
     "name": "stderr",
     "output_type": "stream",
     "text": [
      "Warning message in if (vec1 != 0) {:\n",
      "\"the condition has length > 1 and only the first element will be used\"\n"
     ]
    },
    {
     "name": "stdout",
     "output_type": "stream",
     "text": [
      "[1] -1.250000 -1.666667 -2.500000 -5.000000       Inf  5.000000  2.500000\n"
     ]
    }
   ],
   "source": [
    "if (vec1!=0){\n",
    "    \n",
    "    print(5/vec1)\n",
    "}\n"
   ]
  },
  {
   "cell_type": "code",
   "execution_count": 44,
   "metadata": {},
   "outputs": [
    {
     "data": {
      "text/html": [
       "<style>\n",
       ".list-inline {list-style: none; margin:0; padding: 0}\n",
       ".list-inline>li {display: inline-block}\n",
       ".list-inline>li:not(:last-child)::after {content: \"\\00b7\"; padding: 0 .5ex}\n",
       "</style>\n",
       "<ol class=list-inline><li>-4</li><li>-3</li><li>-2</li><li>-1</li><li>&lt;NA&gt;</li><li>1</li><li>2</li></ol>\n"
      ],
      "text/latex": [
       "\\begin{enumerate*}\n",
       "\\item -4\n",
       "\\item -3\n",
       "\\item -2\n",
       "\\item -1\n",
       "\\item <NA>\n",
       "\\item 1\n",
       "\\item 2\n",
       "\\end{enumerate*}\n"
      ],
      "text/markdown": [
       "1. -4\n",
       "2. -3\n",
       "3. -2\n",
       "4. -1\n",
       "5. &lt;NA&gt;\n",
       "6. 1\n",
       "7. 2\n",
       "\n",
       "\n"
      ],
      "text/plain": [
       "[1] -4 -3 -2 -1 NA  1  2"
      ]
     },
     "metadata": {},
     "output_type": "display_data"
    }
   ],
   "source": [
    "ifelse(vec1!=0,vec1,NA)"
   ]
  },
  {
   "cell_type": "code",
   "execution_count": 48,
   "metadata": {},
   "outputs": [
    {
     "data": {
      "text/html": [
       "<style>\n",
       ".list-inline {list-style: none; margin:0; padding: 0}\n",
       ".list-inline>li {display: inline-block}\n",
       ".list-inline>li:not(:last-child)::after {content: \"\\00b7\"; padding: 0 .5ex}\n",
       "</style>\n",
       "<ol class=list-inline><li>-1.25</li><li>-1.66666666666667</li><li>-2.5</li><li>-5</li><li>&lt;NA&gt;</li><li>5</li><li>2.5</li></ol>\n"
      ],
      "text/latex": [
       "\\begin{enumerate*}\n",
       "\\item -1.25\n",
       "\\item -1.66666666666667\n",
       "\\item -2.5\n",
       "\\item -5\n",
       "\\item <NA>\n",
       "\\item 5\n",
       "\\item 2.5\n",
       "\\end{enumerate*}\n"
      ],
      "text/markdown": [
       "1. -1.25\n",
       "2. -1.66666666666667\n",
       "3. -2.5\n",
       "4. -5\n",
       "5. &lt;NA&gt;\n",
       "6. 5\n",
       "7. 2.5\n",
       "\n",
       "\n"
      ],
      "text/plain": [
       "[1] -1.250000 -1.666667 -2.500000 -5.000000        NA  5.000000  2.500000"
      ]
     },
     "metadata": {},
     "output_type": "display_data"
    }
   ],
   "source": [
    "5/ifelse(vec1!=0,vec1,NA)"
   ]
  },
  {
   "cell_type": "code",
   "execution_count": 49,
   "metadata": {},
   "outputs": [
    {
     "data": {
      "text/html": [
       "<style>\n",
       ".list-inline {list-style: none; margin:0; padding: 0}\n",
       ".list-inline>li {display: inline-block}\n",
       ".list-inline>li:not(:last-child)::after {content: \"\\00b7\"; padding: 0 .5ex}\n",
       "</style>\n",
       "<ol class=list-inline><li>-4</li><li>-3</li><li>-2</li><li>-1</li><li>0</li><li>1</li><li>2</li></ol>\n"
      ],
      "text/latex": [
       "\\begin{enumerate*}\n",
       "\\item -4\n",
       "\\item -3\n",
       "\\item -2\n",
       "\\item -1\n",
       "\\item 0\n",
       "\\item 1\n",
       "\\item 2\n",
       "\\end{enumerate*}\n"
      ],
      "text/markdown": [
       "1. -4\n",
       "2. -3\n",
       "3. -2\n",
       "4. -1\n",
       "5. 0\n",
       "6. 1\n",
       "7. 2\n",
       "\n",
       "\n"
      ],
      "text/plain": [
       "[1] -4 -3 -2 -1  0  1  2"
      ]
     },
     "metadata": {},
     "output_type": "display_data"
    }
   ],
   "source": [
    "vec1"
   ]
  },
  {
   "cell_type": "code",
   "execution_count": 50,
   "metadata": {},
   "outputs": [
    {
     "name": "stderr",
     "output_type": "stream",
     "text": [
      "Warning message in sqrt(vec1):\n",
      "\"NaNs produced\"\n"
     ]
    },
    {
     "data": {
      "text/html": [
       "<style>\n",
       ".list-inline {list-style: none; margin:0; padding: 0}\n",
       ".list-inline>li {display: inline-block}\n",
       ".list-inline>li:not(:last-child)::after {content: \"\\00b7\"; padding: 0 .5ex}\n",
       "</style>\n",
       "<ol class=list-inline><li>NaN</li><li>NaN</li><li>NaN</li><li>NaN</li><li>0</li><li>1</li><li>1.4142135623731</li></ol>\n"
      ],
      "text/latex": [
       "\\begin{enumerate*}\n",
       "\\item NaN\n",
       "\\item NaN\n",
       "\\item NaN\n",
       "\\item NaN\n",
       "\\item 0\n",
       "\\item 1\n",
       "\\item 1.4142135623731\n",
       "\\end{enumerate*}\n"
      ],
      "text/markdown": [
       "1. NaN\n",
       "2. NaN\n",
       "3. NaN\n",
       "4. NaN\n",
       "5. 0\n",
       "6. 1\n",
       "7. 1.4142135623731\n",
       "\n",
       "\n"
      ],
      "text/plain": [
       "[1]      NaN      NaN      NaN      NaN 0.000000 1.000000 1.414214"
      ]
     },
     "metadata": {},
     "output_type": "display_data"
    }
   ],
   "source": [
    "sqrt(vec1)"
   ]
  },
  {
   "cell_type": "code",
   "execution_count": 51,
   "metadata": {},
   "outputs": [
    {
     "data": {
      "text/html": [
       "<style>\n",
       ".list-inline {list-style: none; margin:0; padding: 0}\n",
       ".list-inline>li {display: inline-block}\n",
       ".list-inline>li:not(:last-child)::after {content: \"\\00b7\"; padding: 0 .5ex}\n",
       "</style>\n",
       "<ol class=list-inline><li>&lt;NA&gt;</li><li>&lt;NA&gt;</li><li>&lt;NA&gt;</li><li>&lt;NA&gt;</li><li>0</li><li>1</li><li>1.4142135623731</li></ol>\n"
      ],
      "text/latex": [
       "\\begin{enumerate*}\n",
       "\\item <NA>\n",
       "\\item <NA>\n",
       "\\item <NA>\n",
       "\\item <NA>\n",
       "\\item 0\n",
       "\\item 1\n",
       "\\item 1.4142135623731\n",
       "\\end{enumerate*}\n"
      ],
      "text/markdown": [
       "1. &lt;NA&gt;\n",
       "2. &lt;NA&gt;\n",
       "3. &lt;NA&gt;\n",
       "4. &lt;NA&gt;\n",
       "5. 0\n",
       "6. 1\n",
       "7. 1.4142135623731\n",
       "\n",
       "\n"
      ],
      "text/plain": [
       "[1]       NA       NA       NA       NA 0.000000 1.000000 1.414214"
      ]
     },
     "metadata": {},
     "output_type": "display_data"
    }
   ],
   "source": [
    "sqrt(ifelse(vec1 >=0,vec1,NA))"
   ]
  },
  {
   "cell_type": "code",
   "execution_count": 52,
   "metadata": {},
   "outputs": [
    {
     "data": {
      "text/html": [
       "<style>\n",
       ".list-inline {list-style: none; margin:0; padding: 0}\n",
       ".list-inline>li {display: inline-block}\n",
       ".list-inline>li:not(:last-child)::after {content: \"\\00b7\"; padding: 0 .5ex}\n",
       "</style>\n",
       "<ol class=list-inline><li>'even'</li><li>'odd'</li><li>'even'</li><li>'odd'</li><li>'even'</li><li>'odd'</li><li>'even'</li></ol>\n"
      ],
      "text/latex": [
       "\\begin{enumerate*}\n",
       "\\item 'even'\n",
       "\\item 'odd'\n",
       "\\item 'even'\n",
       "\\item 'odd'\n",
       "\\item 'even'\n",
       "\\item 'odd'\n",
       "\\item 'even'\n",
       "\\end{enumerate*}\n"
      ],
      "text/markdown": [
       "1. 'even'\n",
       "2. 'odd'\n",
       "3. 'even'\n",
       "4. 'odd'\n",
       "5. 'even'\n",
       "6. 'odd'\n",
       "7. 'even'\n",
       "\n",
       "\n"
      ],
      "text/plain": [
       "[1] \"even\" \"odd\"  \"even\" \"odd\"  \"even\" \"odd\"  \"even\""
      ]
     },
     "metadata": {},
     "output_type": "display_data"
    }
   ],
   "source": [
    "ifelse(vec1%%2==0,\"even\",\"odd\")"
   ]
  },
  {
   "cell_type": "code",
   "execution_count": null,
   "metadata": {},
   "outputs": [],
   "source": [
    "vec = c(1L,2L,3L,4,5,6,7,8,9)"
   ]
  },
  {
   "cell_type": "code",
   "execution_count": null,
   "metadata": {},
   "outputs": [],
   "source": [
    "vec"
   ]
  },
  {
   "cell_type": "code",
   "execution_count": null,
   "metadata": {},
   "outputs": [],
   "source": [
    "ifelse(vec >= 5,TRUE ,FALSE)"
   ]
  },
  {
   "cell_type": "code",
   "execution_count": null,
   "metadata": {},
   "outputs": [],
   "source": []
  }
 ],
 "metadata": {
  "kernelspec": {
   "display_name": "R",
   "language": "R",
   "name": "ir"
  },
  "language_info": {
   "codemirror_mode": "r",
   "file_extension": ".r",
   "mimetype": "text/x-r-source",
   "name": "R",
   "pygments_lexer": "r",
   "version": "3.6.1"
  }
 },
 "nbformat": 4,
 "nbformat_minor": 4
}
