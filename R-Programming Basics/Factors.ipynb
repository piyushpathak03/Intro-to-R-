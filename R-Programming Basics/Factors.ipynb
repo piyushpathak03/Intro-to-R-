{
 "cells": [
  {
   "cell_type": "markdown",
   "metadata": {},
   "source": [
    "## Factors"
   ]
  },
  {
   "cell_type": "markdown",
   "metadata": {},
   "source": [
    "Factors only can have predefined values and is used for categorical values. Suppose you have categorical values like gender which can only have two values \"Male\" and \"female\", in such cases using factor is useful."
   ]
  },
  {
   "cell_type": "code",
   "execution_count": 31,
   "metadata": {},
   "outputs": [],
   "source": [
    "gender_fac <- factor(c(\"Male\",\"Female\",\"Female\",\"Male\"))"
   ]
  },
  {
   "cell_type": "code",
   "execution_count": 32,
   "metadata": {},
   "outputs": [
    {
     "data": {
      "text/html": [
       "<style>\n",
       ".list-inline {list-style: none; margin:0; padding: 0}\n",
       ".list-inline>li {display: inline-block}\n",
       ".list-inline>li:not(:last-child)::after {content: \"\\00b7\"; padding: 0 .5ex}\n",
       "</style>\n",
       "<ol class=list-inline><li>Male</li><li>Female</li><li>Female</li><li>Male</li></ol>\n",
       "\n",
       "<details>\n",
       "\t<summary style=display:list-item;cursor:pointer>\n",
       "\t\t<strong>Levels</strong>:\n",
       "\t</summary>\n",
       "\t<style>\n",
       "\t.list-inline {list-style: none; margin:0; padding: 0}\n",
       "\t.list-inline>li {display: inline-block}\n",
       "\t.list-inline>li:not(:last-child)::after {content: \"\\00b7\"; padding: 0 .5ex}\n",
       "\t</style>\n",
       "\t<ol class=list-inline><li>'Female'</li><li>'Male'</li></ol>\n",
       "</details>"
      ],
      "text/latex": [
       "\\begin{enumerate*}\n",
       "\\item Male\n",
       "\\item Female\n",
       "\\item Female\n",
       "\\item Male\n",
       "\\end{enumerate*}\n",
       "\n",
       "\\emph{Levels}: \\begin{enumerate*}\n",
       "\\item 'Female'\n",
       "\\item 'Male'\n",
       "\\end{enumerate*}\n"
      ],
      "text/markdown": [
       "1. Male\n",
       "2. Female\n",
       "3. Female\n",
       "4. Male\n",
       "\n",
       "\n",
       "\n",
       "**Levels**: 1. 'Female'\n",
       "2. 'Male'\n",
       "\n",
       "\n"
      ],
      "text/plain": [
       "[1] Male   Female Female Male  \n",
       "Levels: Female Male"
      ]
     },
     "metadata": {},
     "output_type": "display_data"
    }
   ],
   "source": [
    "gender_fac"
   ]
  },
  {
   "cell_type": "code",
   "execution_count": 33,
   "metadata": {},
   "outputs": [
    {
     "name": "stdout",
     "output_type": "stream",
     "text": [
      " Factor w/ 2 levels \"Female\",\"Male\": 2 1 1 2\n"
     ]
    }
   ],
   "source": [
    "str(gender_fac)"
   ]
  },
  {
   "cell_type": "markdown",
   "metadata": {},
   "source": [
    "Here, you can see the levels are \"Male\" and \"Female\" and the values are actually stored as indices i.e. Male is stored as numeric \"2\" and female as numeric \"1\".\n",
    "\n",
    "What is the benefit of using factors?\n",
    "\n",
    "Now that if you try to add values in your factor except for the defined levels, you will get an error."
   ]
  },
  {
   "cell_type": "code",
   "execution_count": 34,
   "metadata": {},
   "outputs": [
    {
     "name": "stderr",
     "output_type": "stream",
     "text": [
      "Warning message in `[<-.factor`(`*tmp*`, 3, value = \"Orange\"):\n",
      "\"invalid factor level, NA generated\"\n"
     ]
    }
   ],
   "source": [
    "gender_fac[3] = \"Orange\""
   ]
  },
  {
   "cell_type": "markdown",
   "metadata": {},
   "source": [
    "So, when you have to create a container that can only have predefined values, Factor is the answer there.\n",
    "\n",
    "\n",
    "You can create levels while defining the factor even when all the levels are not present in the factor."
   ]
  },
  {
   "cell_type": "code",
   "execution_count": 35,
   "metadata": {},
   "outputs": [],
   "source": [
    "fac1  = factor(c(\"Postitive\",\"Negative\",\"Negative\",\"Negative\",\"Postitive\"),levels=c(\"Postitive\",\"Negative\",\"Neutral\"))"
   ]
  },
  {
   "cell_type": "code",
   "execution_count": 36,
   "metadata": {},
   "outputs": [
    {
     "data": {
      "text/html": [
       "<style>\n",
       ".list-inline {list-style: none; margin:0; padding: 0}\n",
       ".list-inline>li {display: inline-block}\n",
       ".list-inline>li:not(:last-child)::after {content: \"\\00b7\"; padding: 0 .5ex}\n",
       "</style>\n",
       "<ol class=list-inline><li>Postitive</li><li>Negative</li><li>Negative</li><li>Negative</li><li>Postitive</li></ol>\n",
       "\n",
       "<details>\n",
       "\t<summary style=display:list-item;cursor:pointer>\n",
       "\t\t<strong>Levels</strong>:\n",
       "\t</summary>\n",
       "\t<style>\n",
       "\t.list-inline {list-style: none; margin:0; padding: 0}\n",
       "\t.list-inline>li {display: inline-block}\n",
       "\t.list-inline>li:not(:last-child)::after {content: \"\\00b7\"; padding: 0 .5ex}\n",
       "\t</style>\n",
       "\t<ol class=list-inline><li>'Postitive'</li><li>'Negative'</li><li>'Neutral'</li></ol>\n",
       "</details>"
      ],
      "text/latex": [
       "\\begin{enumerate*}\n",
       "\\item Postitive\n",
       "\\item Negative\n",
       "\\item Negative\n",
       "\\item Negative\n",
       "\\item Postitive\n",
       "\\end{enumerate*}\n",
       "\n",
       "\\emph{Levels}: \\begin{enumerate*}\n",
       "\\item 'Postitive'\n",
       "\\item 'Negative'\n",
       "\\item 'Neutral'\n",
       "\\end{enumerate*}\n"
      ],
      "text/markdown": [
       "1. Postitive\n",
       "2. Negative\n",
       "3. Negative\n",
       "4. Negative\n",
       "5. Postitive\n",
       "\n",
       "\n",
       "\n",
       "**Levels**: 1. 'Postitive'\n",
       "2. 'Negative'\n",
       "3. 'Neutral'\n",
       "\n",
       "\n"
      ],
      "text/plain": [
       "[1] Postitive Negative  Negative  Negative  Postitive\n",
       "Levels: Postitive Negative Neutral"
      ]
     },
     "metadata": {},
     "output_type": "display_data"
    }
   ],
   "source": [
    "fac1"
   ]
  },
  {
   "cell_type": "code",
   "execution_count": 37,
   "metadata": {},
   "outputs": [],
   "source": [
    "fac1[6] =\"Neutral\""
   ]
  },
  {
   "cell_type": "code",
   "execution_count": 38,
   "metadata": {},
   "outputs": [
    {
     "data": {
      "text/html": [
       "<style>\n",
       ".list-inline {list-style: none; margin:0; padding: 0}\n",
       ".list-inline>li {display: inline-block}\n",
       ".list-inline>li:not(:last-child)::after {content: \"\\00b7\"; padding: 0 .5ex}\n",
       "</style>\n",
       "<ol class=list-inline><li>Postitive</li><li>Negative</li><li>Negative</li><li>Negative</li><li>Postitive</li><li>Neutral</li></ol>\n",
       "\n",
       "<details>\n",
       "\t<summary style=display:list-item;cursor:pointer>\n",
       "\t\t<strong>Levels</strong>:\n",
       "\t</summary>\n",
       "\t<style>\n",
       "\t.list-inline {list-style: none; margin:0; padding: 0}\n",
       "\t.list-inline>li {display: inline-block}\n",
       "\t.list-inline>li:not(:last-child)::after {content: \"\\00b7\"; padding: 0 .5ex}\n",
       "\t</style>\n",
       "\t<ol class=list-inline><li>'Postitive'</li><li>'Negative'</li><li>'Neutral'</li></ol>\n",
       "</details>"
      ],
      "text/latex": [
       "\\begin{enumerate*}\n",
       "\\item Postitive\n",
       "\\item Negative\n",
       "\\item Negative\n",
       "\\item Negative\n",
       "\\item Postitive\n",
       "\\item Neutral\n",
       "\\end{enumerate*}\n",
       "\n",
       "\\emph{Levels}: \\begin{enumerate*}\n",
       "\\item 'Postitive'\n",
       "\\item 'Negative'\n",
       "\\item 'Neutral'\n",
       "\\end{enumerate*}\n"
      ],
      "text/markdown": [
       "1. Postitive\n",
       "2. Negative\n",
       "3. Negative\n",
       "4. Negative\n",
       "5. Postitive\n",
       "6. Neutral\n",
       "\n",
       "\n",
       "\n",
       "**Levels**: 1. 'Postitive'\n",
       "2. 'Negative'\n",
       "3. 'Neutral'\n",
       "\n",
       "\n"
      ],
      "text/plain": [
       "[1] Postitive Negative  Negative  Negative  Postitive Neutral  \n",
       "Levels: Postitive Negative Neutral"
      ]
     },
     "metadata": {},
     "output_type": "display_data"
    }
   ],
   "source": [
    "fac1"
   ]
  },
  {
   "cell_type": "markdown",
   "metadata": {},
   "source": [
    "By default in dataframes, if you pass a value of string in columns, it is automatically stored as factor datatype. Let's see:"
   ]
  },
  {
   "cell_type": "code",
   "execution_count": 39,
   "metadata": {},
   "outputs": [],
   "source": [
    "df = data.frame(c(2,3,4),c(\"a\",\"b\",\"c\"))"
   ]
  },
  {
   "cell_type": "code",
   "execution_count": 40,
   "metadata": {},
   "outputs": [
    {
     "data": {
      "text/html": [
       "<table>\n",
       "<caption>A data.frame: 3 × 2</caption>\n",
       "<thead>\n",
       "\t<tr><th scope=col>c.2..3..4.</th><th scope=col>c..a....b....c..</th></tr>\n",
       "\t<tr><th scope=col>&lt;dbl&gt;</th><th scope=col>&lt;fct&gt;</th></tr>\n",
       "</thead>\n",
       "<tbody>\n",
       "\t<tr><td>2</td><td>a</td></tr>\n",
       "\t<tr><td>3</td><td>b</td></tr>\n",
       "\t<tr><td>4</td><td>c</td></tr>\n",
       "</tbody>\n",
       "</table>\n"
      ],
      "text/latex": [
       "A data.frame: 3 × 2\n",
       "\\begin{tabular}{ll}\n",
       " c.2..3..4. & c..a....b....c..\\\\\n",
       " <dbl> & <fct>\\\\\n",
       "\\hline\n",
       "\t 2 & a\\\\\n",
       "\t 3 & b\\\\\n",
       "\t 4 & c\\\\\n",
       "\\end{tabular}\n"
      ],
      "text/markdown": [
       "\n",
       "A data.frame: 3 × 2\n",
       "\n",
       "| c.2..3..4. &lt;dbl&gt; | c..a....b....c.. &lt;fct&gt; |\n",
       "|---|---|\n",
       "| 2 | a |\n",
       "| 3 | b |\n",
       "| 4 | c |\n",
       "\n"
      ],
      "text/plain": [
       "  c.2..3..4. c..a....b....c..\n",
       "1 2          a               \n",
       "2 3          b               \n",
       "3 4          c               "
      ]
     },
     "metadata": {},
     "output_type": "display_data"
    }
   ],
   "source": [
    "df"
   ]
  },
  {
   "cell_type": "markdown",
   "metadata": {},
   "source": [
    "You can see that the second column containing string values is stored as factor.\n",
    "\n",
    "To avoid this, we can use a parameter \"stringsAsFactor\" and set it to FALSE ,by deafult it's TRUE."
   ]
  },
  {
   "cell_type": "code",
   "execution_count": 41,
   "metadata": {},
   "outputs": [],
   "source": [
    "df = data.frame(c(2,3,4),c(\"a\",\"b\",\"c\"),stringsAsFactors = FALSE)"
   ]
  },
  {
   "cell_type": "code",
   "execution_count": 42,
   "metadata": {},
   "outputs": [
    {
     "data": {
      "text/html": [
       "<table>\n",
       "<caption>A data.frame: 3 × 2</caption>\n",
       "<thead>\n",
       "\t<tr><th scope=col>c.2..3..4.</th><th scope=col>c..a....b....c..</th></tr>\n",
       "\t<tr><th scope=col>&lt;dbl&gt;</th><th scope=col>&lt;chr&gt;</th></tr>\n",
       "</thead>\n",
       "<tbody>\n",
       "\t<tr><td>2</td><td>a</td></tr>\n",
       "\t<tr><td>3</td><td>b</td></tr>\n",
       "\t<tr><td>4</td><td>c</td></tr>\n",
       "</tbody>\n",
       "</table>\n"
      ],
      "text/latex": [
       "A data.frame: 3 × 2\n",
       "\\begin{tabular}{ll}\n",
       " c.2..3..4. & c..a....b....c..\\\\\n",
       " <dbl> & <chr>\\\\\n",
       "\\hline\n",
       "\t 2 & a\\\\\n",
       "\t 3 & b\\\\\n",
       "\t 4 & c\\\\\n",
       "\\end{tabular}\n"
      ],
      "text/markdown": [
       "\n",
       "A data.frame: 3 × 2\n",
       "\n",
       "| c.2..3..4. &lt;dbl&gt; | c..a....b....c.. &lt;chr&gt; |\n",
       "|---|---|\n",
       "| 2 | a |\n",
       "| 3 | b |\n",
       "| 4 | c |\n",
       "\n"
      ],
      "text/plain": [
       "  c.2..3..4. c..a....b....c..\n",
       "1 2          a               \n",
       "2 3          b               \n",
       "3 4          c               "
      ]
     },
     "metadata": {},
     "output_type": "display_data"
    }
   ],
   "source": [
    "df"
   ]
  },
  {
   "cell_type": "markdown",
   "metadata": {},
   "source": [
    "#### Accessing elements from Factors"
   ]
  },
  {
   "cell_type": "code",
   "execution_count": 43,
   "metadata": {},
   "outputs": [],
   "source": [
    "fac1  = factor(c(\"Positive\",\"Negative\",\"Negative\",\"Negative\",\"Positive\"),levels=c(\"Positive\",\"Negative\",\"Neutral\"))"
   ]
  },
  {
   "cell_type": "code",
   "execution_count": 44,
   "metadata": {},
   "outputs": [
    {
     "data": {
      "text/html": [
       "5"
      ],
      "text/latex": [
       "5"
      ],
      "text/markdown": [
       "5"
      ],
      "text/plain": [
       "[1] 5"
      ]
     },
     "metadata": {},
     "output_type": "display_data"
    }
   ],
   "source": [
    "length(fac1)"
   ]
  },
  {
   "cell_type": "code",
   "execution_count": 45,
   "metadata": {},
   "outputs": [
    {
     "data": {
      "text/html": [
       "Positive\n",
       "<details>\n",
       "\t<summary style=display:list-item;cursor:pointer>\n",
       "\t\t<strong>Levels</strong>:\n",
       "\t</summary>\n",
       "\t<style>\n",
       "\t.list-inline {list-style: none; margin:0; padding: 0}\n",
       "\t.list-inline>li {display: inline-block}\n",
       "\t.list-inline>li:not(:last-child)::after {content: \"\\00b7\"; padding: 0 .5ex}\n",
       "\t</style>\n",
       "\t<ol class=list-inline><li>'Positive'</li><li>'Negative'</li><li>'Neutral'</li></ol>\n",
       "</details>"
      ],
      "text/latex": [
       "Positive\n",
       "\\emph{Levels}: \\begin{enumerate*}\n",
       "\\item 'Positive'\n",
       "\\item 'Negative'\n",
       "\\item 'Neutral'\n",
       "\\end{enumerate*}\n"
      ],
      "text/markdown": [
       "Positive\n",
       "**Levels**: 1. 'Positive'\n",
       "2. 'Negative'\n",
       "3. 'Neutral'\n",
       "\n",
       "\n"
      ],
      "text/plain": [
       "[1] Positive\n",
       "Levels: Positive Negative Neutral"
      ]
     },
     "metadata": {},
     "output_type": "display_data"
    }
   ],
   "source": [
    "fac1[1] #first element"
   ]
  },
  {
   "cell_type": "code",
   "execution_count": 46,
   "metadata": {},
   "outputs": [
    {
     "data": {
      "text/html": [
       "<style>\n",
       ".list-inline {list-style: none; margin:0; padding: 0}\n",
       ".list-inline>li {display: inline-block}\n",
       ".list-inline>li:not(:last-child)::after {content: \"\\00b7\"; padding: 0 .5ex}\n",
       "</style>\n",
       "<ol class=list-inline><li>Negative</li><li>Negative</li><li>Negative</li></ol>\n",
       "\n",
       "<details>\n",
       "\t<summary style=display:list-item;cursor:pointer>\n",
       "\t\t<strong>Levels</strong>:\n",
       "\t</summary>\n",
       "\t<style>\n",
       "\t.list-inline {list-style: none; margin:0; padding: 0}\n",
       "\t.list-inline>li {display: inline-block}\n",
       "\t.list-inline>li:not(:last-child)::after {content: \"\\00b7\"; padding: 0 .5ex}\n",
       "\t</style>\n",
       "\t<ol class=list-inline><li>'Positive'</li><li>'Negative'</li><li>'Neutral'</li></ol>\n",
       "</details>"
      ],
      "text/latex": [
       "\\begin{enumerate*}\n",
       "\\item Negative\n",
       "\\item Negative\n",
       "\\item Negative\n",
       "\\end{enumerate*}\n",
       "\n",
       "\\emph{Levels}: \\begin{enumerate*}\n",
       "\\item 'Positive'\n",
       "\\item 'Negative'\n",
       "\\item 'Neutral'\n",
       "\\end{enumerate*}\n"
      ],
      "text/markdown": [
       "1. Negative\n",
       "2. Negative\n",
       "3. Negative\n",
       "\n",
       "\n",
       "\n",
       "**Levels**: 1. 'Positive'\n",
       "2. 'Negative'\n",
       "3. 'Neutral'\n",
       "\n",
       "\n"
      ],
      "text/plain": [
       "[1] Negative Negative Negative\n",
       "Levels: Positive Negative Neutral"
      ]
     },
     "metadata": {},
     "output_type": "display_data"
    }
   ],
   "source": [
    "fac1[2:4] #second to fourth member"
   ]
  },
  {
   "cell_type": "code",
   "execution_count": 47,
   "metadata": {},
   "outputs": [
    {
     "data": {
      "text/html": [
       "<style>\n",
       ".list-inline {list-style: none; margin:0; padding: 0}\n",
       ".list-inline>li {display: inline-block}\n",
       ".list-inline>li:not(:last-child)::after {content: \"\\00b7\"; padding: 0 .5ex}\n",
       "</style>\n",
       "<ol class=list-inline><li>Positive</li><li>Negative</li><li>Negative</li><li>Negative</li></ol>\n",
       "\n",
       "<details>\n",
       "\t<summary style=display:list-item;cursor:pointer>\n",
       "\t\t<strong>Levels</strong>:\n",
       "\t</summary>\n",
       "\t<style>\n",
       "\t.list-inline {list-style: none; margin:0; padding: 0}\n",
       "\t.list-inline>li {display: inline-block}\n",
       "\t.list-inline>li:not(:last-child)::after {content: \"\\00b7\"; padding: 0 .5ex}\n",
       "\t</style>\n",
       "\t<ol class=list-inline><li>'Positive'</li><li>'Negative'</li><li>'Neutral'</li></ol>\n",
       "</details>"
      ],
      "text/latex": [
       "\\begin{enumerate*}\n",
       "\\item Positive\n",
       "\\item Negative\n",
       "\\item Negative\n",
       "\\item Negative\n",
       "\\end{enumerate*}\n",
       "\n",
       "\\emph{Levels}: \\begin{enumerate*}\n",
       "\\item 'Positive'\n",
       "\\item 'Negative'\n",
       "\\item 'Neutral'\n",
       "\\end{enumerate*}\n"
      ],
      "text/markdown": [
       "1. Positive\n",
       "2. Negative\n",
       "3. Negative\n",
       "4. Negative\n",
       "\n",
       "\n",
       "\n",
       "**Levels**: 1. 'Positive'\n",
       "2. 'Negative'\n",
       "3. 'Neutral'\n",
       "\n",
       "\n"
      ],
      "text/plain": [
       "[1] Positive Negative Negative Negative\n",
       "Levels: Positive Negative Neutral"
      ]
     },
     "metadata": {},
     "output_type": "display_data"
    }
   ],
   "source": [
    "#dropping values from factor\n",
    "fac1[-5]"
   ]
  },
  {
   "cell_type": "markdown",
   "metadata": {},
   "source": [
    "#### Modifying and Adding values in factor\n",
    "\n",
    "Just like we discussed above only those values can be added to a factor that are predefined as levels."
   ]
  },
  {
   "cell_type": "code",
   "execution_count": 48,
   "metadata": {},
   "outputs": [],
   "source": [
    "fac1[6] = \"Neutral\"\n",
    "fac1[7] = \"Positive\""
   ]
  },
  {
   "cell_type": "code",
   "execution_count": 49,
   "metadata": {},
   "outputs": [
    {
     "data": {
      "text/html": [
       "<style>\n",
       ".list-inline {list-style: none; margin:0; padding: 0}\n",
       ".list-inline>li {display: inline-block}\n",
       ".list-inline>li:not(:last-child)::after {content: \"\\00b7\"; padding: 0 .5ex}\n",
       "</style>\n",
       "<ol class=list-inline><li>Positive</li><li>Negative</li><li>Negative</li><li>Negative</li><li>Positive</li><li>Neutral</li><li>Positive</li></ol>\n",
       "\n",
       "<details>\n",
       "\t<summary style=display:list-item;cursor:pointer>\n",
       "\t\t<strong>Levels</strong>:\n",
       "\t</summary>\n",
       "\t<style>\n",
       "\t.list-inline {list-style: none; margin:0; padding: 0}\n",
       "\t.list-inline>li {display: inline-block}\n",
       "\t.list-inline>li:not(:last-child)::after {content: \"\\00b7\"; padding: 0 .5ex}\n",
       "\t</style>\n",
       "\t<ol class=list-inline><li>'Positive'</li><li>'Negative'</li><li>'Neutral'</li></ol>\n",
       "</details>"
      ],
      "text/latex": [
       "\\begin{enumerate*}\n",
       "\\item Positive\n",
       "\\item Negative\n",
       "\\item Negative\n",
       "\\item Negative\n",
       "\\item Positive\n",
       "\\item Neutral\n",
       "\\item Positive\n",
       "\\end{enumerate*}\n",
       "\n",
       "\\emph{Levels}: \\begin{enumerate*}\n",
       "\\item 'Positive'\n",
       "\\item 'Negative'\n",
       "\\item 'Neutral'\n",
       "\\end{enumerate*}\n"
      ],
      "text/markdown": [
       "1. Positive\n",
       "2. Negative\n",
       "3. Negative\n",
       "4. Negative\n",
       "5. Positive\n",
       "6. Neutral\n",
       "7. Positive\n",
       "\n",
       "\n",
       "\n",
       "**Levels**: 1. 'Positive'\n",
       "2. 'Negative'\n",
       "3. 'Neutral'\n",
       "\n",
       "\n"
      ],
      "text/plain": [
       "[1] Positive Negative Negative Negative Positive Neutral  Positive\n",
       "Levels: Positive Negative Neutral"
      ]
     },
     "metadata": {},
     "output_type": "display_data"
    }
   ],
   "source": [
    "fac1"
   ]
  },
  {
   "cell_type": "code",
   "execution_count": 50,
   "metadata": {},
   "outputs": [],
   "source": [
    "fac1[3] = \"Neutral\""
   ]
  },
  {
   "cell_type": "code",
   "execution_count": 51,
   "metadata": {},
   "outputs": [
    {
     "data": {
      "text/html": [
       "<style>\n",
       ".list-inline {list-style: none; margin:0; padding: 0}\n",
       ".list-inline>li {display: inline-block}\n",
       ".list-inline>li:not(:last-child)::after {content: \"\\00b7\"; padding: 0 .5ex}\n",
       "</style>\n",
       "<ol class=list-inline><li>Positive</li><li>Negative</li><li>Neutral</li><li>Negative</li><li>Positive</li><li>Neutral</li><li>Positive</li></ol>\n",
       "\n",
       "<details>\n",
       "\t<summary style=display:list-item;cursor:pointer>\n",
       "\t\t<strong>Levels</strong>:\n",
       "\t</summary>\n",
       "\t<style>\n",
       "\t.list-inline {list-style: none; margin:0; padding: 0}\n",
       "\t.list-inline>li {display: inline-block}\n",
       "\t.list-inline>li:not(:last-child)::after {content: \"\\00b7\"; padding: 0 .5ex}\n",
       "\t</style>\n",
       "\t<ol class=list-inline><li>'Positive'</li><li>'Negative'</li><li>'Neutral'</li></ol>\n",
       "</details>"
      ],
      "text/latex": [
       "\\begin{enumerate*}\n",
       "\\item Positive\n",
       "\\item Negative\n",
       "\\item Neutral\n",
       "\\item Negative\n",
       "\\item Positive\n",
       "\\item Neutral\n",
       "\\item Positive\n",
       "\\end{enumerate*}\n",
       "\n",
       "\\emph{Levels}: \\begin{enumerate*}\n",
       "\\item 'Positive'\n",
       "\\item 'Negative'\n",
       "\\item 'Neutral'\n",
       "\\end{enumerate*}\n"
      ],
      "text/markdown": [
       "1. Positive\n",
       "2. Negative\n",
       "3. Neutral\n",
       "4. Negative\n",
       "5. Positive\n",
       "6. Neutral\n",
       "7. Positive\n",
       "\n",
       "\n",
       "\n",
       "**Levels**: 1. 'Positive'\n",
       "2. 'Negative'\n",
       "3. 'Neutral'\n",
       "\n",
       "\n"
      ],
      "text/plain": [
       "[1] Positive Negative Neutral  Negative Positive Neutral  Positive\n",
       "Levels: Positive Negative Neutral"
      ]
     },
     "metadata": {},
     "output_type": "display_data"
    }
   ],
   "source": [
    "fac1"
   ]
  },
  {
   "cell_type": "code",
   "execution_count": 52,
   "metadata": {},
   "outputs": [
    {
     "name": "stderr",
     "output_type": "stream",
     "text": [
      "Warning message in `[<-.factor`(`*tmp*`, 2, value = \"True\"):\n",
      "\"invalid factor level, NA generated\"\n"
     ]
    }
   ],
   "source": [
    "fac1[2]  = \"True\""
   ]
  },
  {
   "cell_type": "code",
   "execution_count": null,
   "metadata": {},
   "outputs": [],
   "source": []
  }
 ],
 "metadata": {
  "kernelspec": {
   "display_name": "R",
   "language": "R",
   "name": "ir"
  },
  "language_info": {
   "codemirror_mode": "r",
   "file_extension": ".r",
   "mimetype": "text/x-r-source",
   "name": "R",
   "pygments_lexer": "r",
   "version": "3.6.1"
  }
 },
 "nbformat": 4,
 "nbformat_minor": 4
}
